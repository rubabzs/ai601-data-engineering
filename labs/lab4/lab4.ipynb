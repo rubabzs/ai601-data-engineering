{
  "cells": [
    {
      "cell_type": "markdown",
      "metadata": {
        "id": "8HnNnrLMrJLJ"
      },
      "source": [
        "## This notebook is part of the Apache Spark training delivered by CERN IT\n"
      ]
    },
    {
      "cell_type": "markdown",
      "metadata": {
        "id": "LuIyGgJQrJLK"
      },
      "source": [
        "Run this notebook from Jupyter with Python kernel\n",
        "- When running on CERN SWAN, do not attach the notebook to a Spark cluster, but rather run it locally on the SWAN container (which is the default)\n",
        "- If running this outside CERN SWAN, please make sure to have PySpark installed: `pip install pyspark`\n",
        "\n",
        "\n",
        "In order to run this notebook as slides:\n",
        " - on SWAN click on the button \"Enter/Exit RISE slideshow\" in the ribbon\n",
        " - on other environments please make sure to have the RISE extension installed `pip install RISE`"
      ]
    },
    {
      "cell_type": "markdown",
      "metadata": {
        "id": "gyNKilPLrJLL"
      },
      "source": [
        "### SPARK DataFrame Hands-On Lab\n",
        "Contact: Luca.Canali@cern.ch\n",
        "\n",
        "### Objective: Perform Basic DataFrame Operations\n",
        "1. Creating DataFrames\n",
        "2. Select columns\n",
        "3. Add, rename and drop columns\n",
        "4. Filtering rows\n",
        "5. Aggregations"
      ]
    },
    {
      "cell_type": "markdown",
      "metadata": {
        "id": "Hi1rnFFerJLM"
      },
      "source": [
        "## Getting started: create the SparkSession"
      ]
    },
    {
      "cell_type": "code",
      "execution_count": 63,
      "metadata": {
        "colab": {
          "base_uri": "https://localhost:8080/"
        },
        "id": "JPpy_C2GrNc8",
        "outputId": "720a281c-3ed5-4c5a-f243-73dbcac327f8"
      },
      "outputs": [
        {
          "name": "stdout",
          "output_type": "stream",
          "text": [
            "Requirement already satisfied: pyspark in /usr/local/lib/python3.11/dist-packages (3.5.5)\n",
            "Requirement already satisfied: py4j==0.10.9.7 in /usr/local/lib/python3.11/dist-packages (from pyspark) (0.10.9.7)\n"
          ]
        }
      ],
      "source": [
        "!pip install pyspark"
      ]
    },
    {
      "cell_type": "code",
      "execution_count": 64,
      "metadata": {
        "colab": {
          "base_uri": "https://localhost:8080/",
          "height": 222
        },
        "id": "hIg9iY8yrJLM",
        "outputId": "17e0394d-076a-453c-b56b-2ec003d4cda3",
        "scrolled": true
      },
      "outputs": [
        {
          "data": {
            "text/html": [
              "\n",
              "            <div>\n",
              "                <p><b>SparkSession - in-memory</b></p>\n",
              "                \n",
              "        <div>\n",
              "            <p><b>SparkContext</b></p>\n",
              "\n",
              "            <p><a href=\"http://bb09253f02a0:4040\">Spark UI</a></p>\n",
              "\n",
              "            <dl>\n",
              "              <dt>Version</dt>\n",
              "                <dd><code>v3.5.5</code></dd>\n",
              "              <dt>Master</dt>\n",
              "                <dd><code>local[*]</code></dd>\n",
              "              <dt>AppName</dt>\n",
              "                <dd><code>DataFrame HandsOn 1</code></dd>\n",
              "            </dl>\n",
              "        </div>\n",
              "        \n",
              "            </div>\n",
              "        "
            ],
            "text/plain": [
              "<pyspark.sql.session.SparkSession at 0x7e4ca8199750>"
            ]
          },
          "execution_count": 64,
          "metadata": {},
          "output_type": "execute_result"
        }
      ],
      "source": [
        "# !pip install pyspark\n",
        "\n",
        "from pyspark.sql import SparkSession\n",
        "\n",
        "spark = (SparkSession.builder\n",
        "          .master(\"local[*]\") \\\n",
        "          .appName(\"DataFrame HandsOn 1\") \\\n",
        "          .config(\"spark.ui.showConsoleProgress\",\"false\") \\\n",
        "          .getOrCreate()\n",
        "        )\n",
        "\n",
        "spark"
      ]
    },
    {
      "cell_type": "markdown",
      "metadata": {
        "id": "ikTo070grJLN"
      },
      "source": [
        "The master `local[*]` means that the executors are in the same node that is running the driver. The `*` tells Spark to start as many executors as there are logical cores available"
      ]
    },
    {
      "cell_type": "markdown",
      "metadata": {
        "id": "cSJSGyY5rJLO"
      },
      "source": [
        "### Hands-On 1 - Construct a DataFrame from csv file\n",
        "This demostrates how to read a csv file and construct a DataFrame.  \n",
        "We will use the online retail dataset from Kaggle, credits: https://www.kaggle.com/datasets/vijayuv/onlineretail\n"
      ]
    },
    {
      "cell_type": "markdown",
      "metadata": {
        "id": "dSjhlX-XrJLP"
      },
      "source": [
        "#### First, let's inspect the csv content"
      ]
    },
    {
      "cell_type": "code",
      "execution_count": 65,
      "metadata": {
        "id": "qybMDn5nrJLR"
      },
      "outputs": [],
      "source": [
        "online_retail_schema=\"InvoiceNo int, StockCode string, Description string, Quantity int,\\\n",
        "InvoiceDate timestamp,UnitPrice float,CustomerId int, Country string\""
      ]
    },
    {
      "cell_type": "code",
      "execution_count": null,
      "metadata": {
        "id": "sv7EHRnLrJLR"
      },
      "outputs": [],
      "source": [
        "df = (spark.read\n",
        "      .option(\"header\", \"true\")\n",
        "      .option(\"timestampFormat\", \"M/d/yyyy H:m\")\n",
        "      .csv(\"/content/OnlineRetail.csv\", schema=online_retail_schema)\n",
        "     )"
      ]
    },
    {
      "cell_type": "markdown",
      "metadata": {
        "id": "l13Fs5LHrJLR"
      },
      "source": [
        "#### Inspect the data"
      ]
    },
    {
      "cell_type": "code",
      "execution_count": 67,
      "metadata": {
        "colab": {
          "base_uri": "https://localhost:8080/"
        },
        "id": "M_QjfHXqrJLT",
        "outputId": "ac385b48-948a-4425-8cac-6afab5fc4cd5",
        "scrolled": true
      },
      "outputs": [
        {
          "name": "stdout",
          "output_type": "stream",
          "text": [
            "+---------+---------+----------------------------------+--------+-------------------+---------+----------+--------------+\n",
            "|InvoiceNo|StockCode|Description                       |Quantity|InvoiceDate        |UnitPrice|CustomerId|Country       |\n",
            "+---------+---------+----------------------------------+--------+-------------------+---------+----------+--------------+\n",
            "|536365   |85123A   |WHITE HANGING HEART T-LIGHT HOLDER|6       |2010-12-01 08:26:00|2.55     |17850     |United Kingdom|\n",
            "|536365   |71053    |WHITE METAL LANTERN               |6       |2010-12-01 08:26:00|3.39     |17850     |United Kingdom|\n",
            "+---------+---------+----------------------------------+--------+-------------------+---------+----------+--------------+\n",
            "only showing top 2 rows\n",
            "\n"
          ]
        }
      ],
      "source": [
        "df.show(2, False)"
      ]
    },
    {
      "cell_type": "markdown",
      "metadata": {
        "id": "7wELzfkKrJLU"
      },
      "source": [
        "#### Show columns"
      ]
    },
    {
      "cell_type": "code",
      "execution_count": 68,
      "metadata": {
        "colab": {
          "base_uri": "https://localhost:8080/"
        },
        "id": "BKbNp-ABrJLU",
        "outputId": "7ec66647-e4bb-4025-cd7d-e23d93613c65"
      },
      "outputs": [
        {
          "name": "stdout",
          "output_type": "stream",
          "text": [
            "root\n",
            " |-- InvoiceNo: integer (nullable = true)\n",
            " |-- StockCode: string (nullable = true)\n",
            " |-- Description: string (nullable = true)\n",
            " |-- Quantity: integer (nullable = true)\n",
            " |-- InvoiceDate: timestamp (nullable = true)\n",
            " |-- UnitPrice: float (nullable = true)\n",
            " |-- CustomerId: integer (nullable = true)\n",
            " |-- Country: string (nullable = true)\n",
            "\n"
          ]
        }
      ],
      "source": [
        "df.printSchema()"
      ]
    },
    {
      "cell_type": "markdown",
      "metadata": {
        "id": "9IG2FcvbrJLU"
      },
      "source": [
        "### Hands-On 2 - Spark Transformations - select, add, rename and drop columns"
      ]
    },
    {
      "cell_type": "markdown",
      "metadata": {
        "id": "NWUZGPXHrJLU"
      },
      "source": [
        "Select dataframe columns"
      ]
    },
    {
      "cell_type": "code",
      "execution_count": 69,
      "metadata": {
        "colab": {
          "base_uri": "https://localhost:8080/"
        },
        "id": "mtuDLKvtrJLU",
        "outputId": "babcfb82-c461-4353-94ce-86432455bb8d",
        "scrolled": true
      },
      "outputs": [
        {
          "name": "stdout",
          "output_type": "stream",
          "text": [
            "+--------------+\n",
            "|       Country|\n",
            "+--------------+\n",
            "|United Kingdom|\n",
            "|United Kingdom|\n",
            "+--------------+\n",
            "only showing top 2 rows\n",
            "\n"
          ]
        }
      ],
      "source": [
        "# select single column\n",
        "\n",
        "df.select(\"Country\").show(2)"
      ]
    },
    {
      "cell_type": "markdown",
      "metadata": {
        "id": "svYP-Nj6rJLU"
      },
      "source": [
        "Select multiple columns\n"
      ]
    },
    {
      "cell_type": "code",
      "execution_count": 70,
      "metadata": {
        "colab": {
          "base_uri": "https://localhost:8080/"
        },
        "id": "9PRdayYrrJLU",
        "outputId": "f73e7069-ab3a-4676-9377-f90a8fb3f463"
      },
      "outputs": [
        {
          "name": "stdout",
          "output_type": "stream",
          "text": [
            "+---------+----------------------------------+---------+\n",
            "|StockCode|Description                       |UnitPrice|\n",
            "+---------+----------------------------------+---------+\n",
            "|85123A   |WHITE HANGING HEART T-LIGHT HOLDER|2.55     |\n",
            "|71053    |WHITE METAL LANTERN               |3.39     |\n",
            "+---------+----------------------------------+---------+\n",
            "only showing top 2 rows\n",
            "\n"
          ]
        }
      ],
      "source": [
        "df.select(\"StockCode\",\"Description\",\"UnitPrice\").show(n=2, truncate=False)"
      ]
    },
    {
      "cell_type": "code",
      "execution_count": 71,
      "metadata": {
        "colab": {
          "base_uri": "https://localhost:8080/"
        },
        "id": "gB4enTonrJLV",
        "outputId": "9667f21e-a170-4373-8a5a-ac05367f9e2a"
      },
      "outputs": [
        {
          "data": {
            "text/plain": [
              "['InvoiceNo',\n",
              " 'StockCode',\n",
              " 'Description',\n",
              " 'Quantity',\n",
              " 'InvoiceDate',\n",
              " 'UnitPrice',\n",
              " 'CustomerId',\n",
              " 'Country']"
            ]
          },
          "execution_count": 71,
          "metadata": {},
          "output_type": "execute_result"
        }
      ],
      "source": [
        "df.columns"
      ]
    },
    {
      "cell_type": "code",
      "execution_count": 72,
      "metadata": {
        "colab": {
          "base_uri": "https://localhost:8080/"
        },
        "id": "9OuOr9j8rJLV",
        "outputId": "642d3433-5d3c-4bc4-f582-9cf50fd4dbaf"
      },
      "outputs": [
        {
          "name": "stdout",
          "output_type": "stream",
          "text": [
            "+---------+---------+--------------------+--------+-------------------+\n",
            "|InvoiceNo|StockCode|         Description|Quantity|        InvoiceDate|\n",
            "+---------+---------+--------------------+--------+-------------------+\n",
            "|   536365|   85123A|WHITE HANGING HEA...|       6|2010-12-01 08:26:00|\n",
            "|   536365|    71053| WHITE METAL LANTERN|       6|2010-12-01 08:26:00|\n",
            "+---------+---------+--------------------+--------+-------------------+\n",
            "only showing top 2 rows\n",
            "\n"
          ]
        }
      ],
      "source": [
        "# select first 5 columns\n",
        "df.select(df.columns[0:5]).show(2)"
      ]
    },
    {
      "cell_type": "code",
      "execution_count": 73,
      "metadata": {
        "colab": {
          "base_uri": "https://localhost:8080/"
        },
        "id": "OlY1qkVBrJLV",
        "outputId": "638e6c5c-df88-40e1-ac38-de1b6e67b4be"
      },
      "outputs": [
        {
          "name": "stdout",
          "output_type": "stream",
          "text": [
            "+---------+---------+--------------------+--------+-------------------+---------+----------+--------------+-------------+\n",
            "|InvoiceNo|StockCode|         Description|Quantity|        InvoiceDate|UnitPrice|CustomerId|       Country|HighValueItem|\n",
            "+---------+---------+--------------------+--------+-------------------+---------+----------+--------------+-------------+\n",
            "|   536365|   85123A|WHITE HANGING HEA...|       6|2010-12-01 08:26:00|     2.55|     17850|United Kingdom|        false|\n",
            "|   536365|    71053| WHITE METAL LANTERN|       6|2010-12-01 08:26:00|     3.39|     17850|United Kingdom|        false|\n",
            "+---------+---------+--------------------+--------+-------------------+---------+----------+--------------+-------------+\n",
            "only showing top 2 rows\n",
            "\n"
          ]
        }
      ],
      "source": [
        "# selects all the original columns and adds a new column that specifies high value item\n",
        "(df.selectExpr(\n",
        "   \"*\", # all original columns\n",
        "   \"(UnitPrice > 100) as HighValueItem\")\n",
        "   .show(2)\n",
        ")"
      ]
    },
    {
      "cell_type": "code",
      "execution_count": 74,
      "metadata": {
        "colab": {
          "base_uri": "https://localhost:8080/"
        },
        "id": "0IiNqEgTrJLW",
        "outputId": "c03b037e-97d1-4ed7-dbfc-f138f8ca04bc"
      },
      "outputs": [
        {
          "name": "stdout",
          "output_type": "stream",
          "text": [
            "+-------------+--------------+\n",
            "|TotalQuantity|InventoryValue|\n",
            "+-------------+--------------+\n",
            "|      3925920|       1889818|\n",
            "+-------------+--------------+\n",
            "\n"
          ]
        }
      ],
      "source": [
        "# selects all the original columns and adds a new column that specifies high value item\n",
        "(df.selectExpr(\n",
        "  \"sum(Quantity) as TotalQuantity\",\n",
        "  \"cast(sum(UnitPrice) as int) as InventoryValue\")\n",
        "  .show()\n",
        ")"
      ]
    },
    {
      "cell_type": "markdown",
      "metadata": {
        "id": "vvSNTynGrJLW"
      },
      "source": [
        "#### Adding, renaming and dropping columns"
      ]
    },
    {
      "cell_type": "code",
      "execution_count": 75,
      "metadata": {
        "colab": {
          "base_uri": "https://localhost:8080/"
        },
        "id": "l1FQcKONrJLW",
        "outputId": "e8b52ca1-e509-4a6a-c6f1-997273e11a17"
      },
      "outputs": [
        {
          "name": "stdout",
          "output_type": "stream",
          "text": [
            "+---------+----------------------------------+---------+--------+------------+\n",
            "|InvoiceNo|Description                       |UnitPrice|Quantity|InvoiceValue|\n",
            "+---------+----------------------------------+---------+--------+------------+\n",
            "|536365   |WHITE HANGING HEART T-LIGHT HOLDER|2.55     |6       |15.299999   |\n",
            "|536365   |WHITE METAL LANTERN               |3.39     |6       |20.34       |\n",
            "+---------+----------------------------------+---------+--------+------------+\n",
            "only showing top 2 rows\n",
            "\n",
            "+---------+----------------------------------+---------+--------+---------+\n",
            "|InvoiceNo|Description                       |UnitPrice|Quantity|LineTotal|\n",
            "+---------+----------------------------------+---------+--------+---------+\n",
            "|536365   |WHITE HANGING HEART T-LIGHT HOLDER|2.55     |6       |15.299999|\n",
            "|536365   |WHITE METAL LANTERN               |3.39     |6       |20.34    |\n",
            "+---------+----------------------------------+---------+--------+---------+\n",
            "only showing top 2 rows\n",
            "\n",
            "+---------+----------------------------------+---------+--------+\n",
            "|InvoiceNo|Description                       |UnitPrice|Quantity|\n",
            "+---------+----------------------------------+---------+--------+\n",
            "|536365   |WHITE HANGING HEART T-LIGHT HOLDER|2.55     |6       |\n",
            "|536365   |WHITE METAL LANTERN               |3.39     |6       |\n",
            "+---------+----------------------------------+---------+--------+\n",
            "only showing top 2 rows\n",
            "\n"
          ]
        }
      ],
      "source": [
        "# add a new column called InvoiceValue\n",
        "from pyspark.sql.functions import expr\n",
        "df_1 = (df\n",
        "        .withColumn(\"InvoiceValue\", expr(\"UnitPrice * Quantity\"))\n",
        "        .select(\"InvoiceNo\",\"Description\",\"UnitPrice\",\"Quantity\",\"InvoiceValue\")\n",
        "       )\n",
        "df_1.show(2, False)\n",
        "\n",
        "# rename InvoiceValue to LineTotal\n",
        "df_2 = df_1.withColumnRenamed(\"InvoiceValue\",\"LineTotal\")\n",
        "df_2.show(2, False)\n",
        "\n",
        "# drop a column\n",
        "df_2.drop(\"LineTotal\").show(2, False)"
      ]
    },
    {
      "cell_type": "markdown",
      "metadata": {
        "id": "yUOj7aBmrJLW"
      },
      "source": [
        "### Hands-On 3 - Spark Transformations - filter, sort and cast"
      ]
    },
    {
      "cell_type": "code",
      "execution_count": 76,
      "metadata": {
        "colab": {
          "base_uri": "https://localhost:8080/"
        },
        "id": "lvKUpyYgrJLW",
        "outputId": "79ae235b-ee7f-48ae-ba1f-cd4b22cf5986"
      },
      "outputs": [
        {
          "name": "stdout",
          "output_type": "stream",
          "text": [
            "+---------+---------+--------------------+--------+-------------------+---------+----------+--------------+\n",
            "|InvoiceNo|StockCode|         Description|Quantity|        InvoiceDate|UnitPrice|CustomerId|       Country|\n",
            "+---------+---------+--------------------+--------+-------------------+---------+----------+--------------+\n",
            "|   556444|    22502|PICNIC BASKET WIC...|      60|2011-06-10 15:28:00|    649.5|     15098|United Kingdom|\n",
            "+---------+---------+--------------------+--------+-------------------+---------+----------+--------------+\n",
            "\n",
            "+---------+---------+--------------------+--------+-------------------+---------+----------+--------------+\n",
            "|InvoiceNo|StockCode|         Description|Quantity|        InvoiceDate|UnitPrice|CustomerId|       Country|\n",
            "+---------+---------+--------------------+--------+-------------------+---------+----------+--------------+\n",
            "|   556444|    22502|PICNIC BASKET WIC...|      60|2011-06-10 15:28:00|    649.5|     15098|United Kingdom|\n",
            "+---------+---------+--------------------+--------+-------------------+---------+----------+--------------+\n",
            "\n",
            "+---------+---------+--------------------+--------+-------------------+---------+----------+--------------+\n",
            "|InvoiceNo|StockCode|         Description|Quantity|        InvoiceDate|UnitPrice|CustomerId|       Country|\n",
            "+---------+---------+--------------------+--------+-------------------+---------+----------+--------------+\n",
            "|   556444|    22502|PICNIC BASKET WIC...|      60|2011-06-10 15:28:00|    649.5|     15098|United Kingdom|\n",
            "+---------+---------+--------------------+--------+-------------------+---------+----------+--------------+\n",
            "\n"
          ]
        }
      ],
      "source": [
        "from pyspark.sql.functions import col\n",
        "\n",
        "# select invoice lines with quantity > 50 and unitprice > 20\n",
        "df.where(col(\"Quantity\") > 20).where(col(\"UnitPrice\") > 50).show(2)\n",
        "df.filter(df.Quantity > 20).filter(df.UnitPrice > 50).show(2)\n",
        "df.filter(\"Quantity > 20 and UnitPrice > 50\").show(2)"
      ]
    },
    {
      "cell_type": "code",
      "execution_count": 77,
      "metadata": {
        "colab": {
          "base_uri": "https://localhost:8080/"
        },
        "id": "sjlaB_QDrJLW",
        "outputId": "ecc260c4-b550-44f7-cfe8-fc02dcf384e7"
      },
      "outputs": [
        {
          "name": "stdout",
          "output_type": "stream",
          "text": [
            "+---------+---------+--------------------+--------+-------------------+---------+----------+--------------+\n",
            "|InvoiceNo|StockCode|         Description|Quantity|        InvoiceDate|UnitPrice|CustomerId|       Country|\n",
            "+---------+---------+--------------------+--------+-------------------+---------+----------+--------------+\n",
            "|   536378|    21212|PACK OF 72 RETROS...|     120|2010-12-01 09:37:00|     0.42|     14688|United Kingdom|\n",
            "|     NULL|        D|            Discount|      -1|2010-12-01 09:41:00|     27.5|     14527|United Kingdom|\n",
            "+---------+---------+--------------------+--------+-------------------+---------+----------+--------------+\n",
            "only showing top 2 rows\n",
            "\n"
          ]
        }
      ],
      "source": [
        "# select invoice lines with quantity > 100 or unitprice > 20\n",
        "df.where((col(\"Quantity\") > 100) | (col(\"UnitPrice\") > 20)).show(2)"
      ]
    },
    {
      "cell_type": "code",
      "execution_count": 78,
      "metadata": {
        "colab": {
          "base_uri": "https://localhost:8080/"
        },
        "id": "-hFuqWHVrJLX",
        "outputId": "bf214aae-c52f-4c4d-cd5a-4223f6b32e76"
      },
      "outputs": [
        {
          "name": "stdout",
          "output_type": "stream",
          "text": [
            "+---------+---------+--------------------+--------+-------------------+---------+----------+--------------+\n",
            "|InvoiceNo|StockCode|         Description|Quantity|        InvoiceDate|UnitPrice|CustomerId|       Country|\n",
            "+---------+---------+--------------------+--------+-------------------+---------+----------+--------------+\n",
            "|   571360|    22972|CHILDREN'S SPACEB...|      12|2011-10-17 11:51:00|     NULL|      NULL|          NULL|\n",
            "|     NULL|        B|     Adjust bad debt|       1|2011-08-12 14:51:00|-11062.06|      NULL|United Kingdom|\n",
            "+---------+---------+--------------------+--------+-------------------+---------+----------+--------------+\n",
            "only showing top 2 rows\n",
            "\n",
            "+---------+---------+--------------------+--------+-------------------+---------+----------+--------------+\n",
            "|InvoiceNo|StockCode|         Description|Quantity|        InvoiceDate|UnitPrice|CustomerId|       Country|\n",
            "+---------+---------+--------------------+--------+-------------------+---------+----------+--------------+\n",
            "|   541431|    23166|MEDIUM CERAMIC TO...|   74215|2011-01-18 10:01:00|     1.04|     12346|United Kingdom|\n",
            "|   542504|    37413|                NULL|    5568|2011-01-28 12:03:00|      0.0|      NULL|United Kingdom|\n",
            "|   554868|    22197|SMALL POPCORN HOLDER|    4300|2011-05-27 10:52:00|     0.72|     13135|United Kingdom|\n",
            "|   556231|   85123A|                   ?|    4000|2011-06-09 15:04:00|      0.0|      NULL|United Kingdom|\n",
            "|   544612|    22053|EMPIRE DESIGN ROS...|    3906|2011-02-22 10:43:00|     0.82|     18087|United Kingdom|\n",
            "|   560599|    18007|ESSENTIAL BALM 3....|    3186|2011-07-19 17:04:00|     0.06|     14609|United Kingdom|\n",
            "|   540815|    21108|FAIRY CAKE FLANNE...|    3114|2011-01-11 12:55:00|      2.1|     15749|United Kingdom|\n",
            "|   550461|    21108|FAIRY CAKE FLANNE...|    3114|2011-04-18 13:20:00|      2.1|     15749|United Kingdom|\n",
            "|   560040|    23343| came coded as 20713|    3100|2011-07-14 14:28:00|      0.0|      NULL|United Kingdom|\n",
            "|   546139|    84988|                   ?|    3000|2011-03-09 16:35:00|      0.0|      NULL|United Kingdom|\n",
            "+---------+---------+--------------------+--------+-------------------+---------+----------+--------------+\n",
            "only showing top 10 rows\n",
            "\n"
          ]
        }
      ],
      "source": [
        "from pyspark.sql.functions import desc, asc\n",
        "\n",
        "# sort in the default order: ascending\n",
        "df.orderBy(expr(\"UnitPrice\")).show(2)\n",
        "\n",
        "df.orderBy(col(\"Quantity\").desc(), col(\"UnitPrice\").asc()).show(10)"
      ]
    },
    {
      "cell_type": "markdown",
      "metadata": {
        "id": "fkxQOf0brJLX"
      },
      "source": [
        "### Hands-On 4 - Spark Transformations - aggregations\n",
        "full list of built int functions - https://spark.apache.org/docs/latest/api/python/reference/pyspark.sql.html#functions"
      ]
    },
    {
      "cell_type": "code",
      "execution_count": 79,
      "metadata": {
        "colab": {
          "base_uri": "https://localhost:8080/"
        },
        "id": "X0gIYcIprJLX",
        "outputId": "0c36e9a6-1bbf-4450-f772-eb972a6f9954"
      },
      "outputs": [
        {
          "name": "stdout",
          "output_type": "stream",
          "text": [
            "+--------------------------+\n",
            "|count(DISTINCT CustomerID)|\n",
            "+--------------------------+\n",
            "|                      3837|\n",
            "+--------------------------+\n",
            "\n",
            "CPU times: user 12.5 ms, sys: 2.64 ms, total: 15.1 ms\n",
            "Wall time: 1.42 s\n"
          ]
        }
      ],
      "source": [
        "%%time\n",
        "# Count distinct customers\n",
        "from pyspark.sql.functions import countDistinct\n",
        "df.select(countDistinct(\"CustomerID\")).show()"
      ]
    },
    {
      "cell_type": "code",
      "execution_count": 80,
      "metadata": {
        "colab": {
          "base_uri": "https://localhost:8080/"
        },
        "id": "rIcYKGymrJLX",
        "outputId": "7c5e3af3-564c-4083-851e-07a320ba6259"
      },
      "outputs": [
        {
          "name": "stdout",
          "output_type": "stream",
          "text": [
            "+---------------------------------+\n",
            "|approx_count_distinct(CustomerID)|\n",
            "+---------------------------------+\n",
            "|                             3903|\n",
            "+---------------------------------+\n",
            "\n",
            "CPU times: user 9.31 ms, sys: 698 µs, total: 10 ms\n",
            "Wall time: 1.01 s\n"
          ]
        }
      ],
      "source": [
        "%%time\n",
        "# approx. distinct stock items\n",
        "from pyspark.sql.functions import approx_count_distinct\n",
        "df.select(approx_count_distinct(\"CustomerID\", 0.1)).show()"
      ]
    },
    {
      "cell_type": "code",
      "execution_count": 81,
      "metadata": {
        "colab": {
          "base_uri": "https://localhost:8080/"
        },
        "id": "0FGqJXjgrJLX",
        "outputId": "d7990be9-e4a3-4a4a-fb8f-1c78e0966085"
      },
      "outputs": [
        {
          "name": "stdout",
          "output_type": "stream",
          "text": [
            "+-----------------+-------------+-------------+\n",
            "|    avg_purchases|max_purchases|min_purchases|\n",
            "+-----------------+-------------+-------------+\n",
            "|9.796358355395967|        74215|       -74215|\n",
            "+-----------------+-------------+-------------+\n",
            "\n"
          ]
        }
      ],
      "source": [
        "# average, maximum and minimum purchase quantity\n",
        "from pyspark.sql.functions import avg, max, min\n",
        "( df.select(\n",
        "    avg(\"Quantity\").alias(\"avg_purchases\"),\n",
        "    max(\"Quantity\").alias(\"max_purchases\"),\n",
        "    min(\"Quantity\").alias(\"min_purchases\"))\n",
        "   .show()\n",
        ")"
      ]
    },
    {
      "cell_type": "markdown",
      "metadata": {
        "id": "u1Wt3dqNrJLX"
      },
      "source": [
        "### Hands-On 5 - Spark Transformations - grouping and windows"
      ]
    },
    {
      "cell_type": "code",
      "execution_count": 82,
      "metadata": {
        "colab": {
          "base_uri": "https://localhost:8080/"
        },
        "id": "ivM-iICerJLY",
        "outputId": "7c813a77-2101-416c-a082-ffa4e4c45e19"
      },
      "outputs": [
        {
          "name": "stdout",
          "output_type": "stream",
          "text": [
            "+---------+----------+-----+\n",
            "|InvoiceNo|CustomerId|count|\n",
            "+---------+----------+-----+\n",
            "|   536573|     17025|    4|\n",
            "|   537228|     17677|    1|\n",
            "|   537419|     13495|   14|\n",
            "|   538093|     12682|   33|\n",
            "|   538648|     17937|    5|\n",
            "+---------+----------+-----+\n",
            "only showing top 5 rows\n",
            "\n",
            "+---------+------------------+--------------------+\n",
            "|InvoiceNo|     avg(Quantity)|stddev_pop(Quantity)|\n",
            "+---------+------------------+--------------------+\n",
            "|   536532| 25.36986301369863|  16.850272831671976|\n",
            "|   537632|               1.0|                 0.0|\n",
            "|   538708| 10.61111111111111|   7.150282736359209|\n",
            "|   538877|14.258278145695364|   27.56989037543246|\n",
            "|   538993| 9.333333333333334|   2.748737083745107|\n",
            "+---------+------------------+--------------------+\n",
            "only showing top 5 rows\n",
            "\n"
          ]
        }
      ],
      "source": [
        "# count of items on the invoice\n",
        "df.groupBy(\"InvoiceNo\", \"CustomerId\").count().show(5)\n",
        "\n",
        "# grouping with expressions\n",
        "df.groupBy(\"InvoiceNo\").agg(expr(\"avg(Quantity)\"),expr(\"stddev_pop(Quantity)\"))\\\n",
        "  .show(5)"
      ]
    },
    {
      "cell_type": "markdown",
      "metadata": {
        "id": "SRr2f8chrJLY"
      },
      "source": [
        "### Read the csv file into DataFrame\n",
        "\n",
        "`%%time` is an iPython magic https://ipython.readthedocs.io/en/stable/interactive/magics.html\n"
      ]
    },
    {
      "cell_type": "markdown",
      "metadata": {
        "id": "74yUqIPHrJLY"
      },
      "source": [
        "It's possible to read files without specifying the schema. Some file formats (Parquet is one of them) include the schema, which means that Spark can start reading the file. For format without schema (csv, json...) Spark can infer the schema. Let's see what's the difference in terms of time and of results:"
      ]
    },
    {
      "cell_type": "code",
      "execution_count": 83,
      "metadata": {
        "id": "nqSkQm4RrJLY"
      },
      "outputs": [],
      "source": [
        "online_retail_schema=\"InvoiceNo int, StockCode string, Description string, Quantity int,\\\n",
        "InvoiceDate timestamp,UnitPrice float,CustomerId int, Country string\""
      ]
    },
    {
      "cell_type": "code",
      "execution_count": 84,
      "metadata": {
        "colab": {
          "base_uri": "https://localhost:8080/"
        },
        "id": "sZLNaGJ-rJLl",
        "outputId": "f5eb693f-eb92-4f49-bc24-0125cce5e496"
      },
      "outputs": [
        {
          "name": "stdout",
          "output_type": "stream",
          "text": [
            "CPU times: user 2.61 ms, sys: 290 µs, total: 2.9 ms\n",
            "Wall time: 26.6 ms\n"
          ]
        }
      ],
      "source": [
        "%%time\n",
        "df = spark.read \\\n",
        "        .option(\"header\", \"true\") \\\n",
        "        .option(\"timestampFormat\", \"M/d/yyyy H:m\")\\\n",
        "        .csv(\"/content/OnlineRetail.csv\",\n",
        "             schema=online_retail_schema)"
      ]
    },
    {
      "cell_type": "code",
      "execution_count": 85,
      "metadata": {
        "colab": {
          "base_uri": "https://localhost:8080/"
        },
        "id": "6KiCslK1rJLl",
        "outputId": "42150f42-cabc-4c74-c1bb-e35e52ad3ffc",
        "scrolled": true
      },
      "outputs": [
        {
          "name": "stdout",
          "output_type": "stream",
          "text": [
            "CPU times: user 20.9 ms, sys: 1.31 ms, total: 22.3 ms\n",
            "Wall time: 3.02 s\n"
          ]
        }
      ],
      "source": [
        "%%time\n",
        "df_infer = spark.read \\\n",
        "        .option(\"header\", \"true\") \\\n",
        "        .option(\"inferSchema\", \"true\") \\\n",
        "        .csv(\"/content/OnlineRetail.csv\")"
      ]
    },
    {
      "cell_type": "markdown",
      "metadata": {
        "id": "BORYSMbTrJLl"
      },
      "source": [
        "## Exercises"
      ]
    },
    {
      "cell_type": "markdown",
      "metadata": {
        "id": "Uh8CsapArJLm"
      },
      "source": [
        "Reminder: documentation at\n",
        "https://spark.apache.org/docs/latest/api/python/index.html"
      ]
    },
    {
      "cell_type": "markdown",
      "metadata": {
        "id": "UHuZbdsvrJLm"
      },
      "source": [
        "If you didn't run the previous cells, run the following one:"
      ]
    },
    {
      "cell_type": "code",
      "execution_count": 86,
      "metadata": {
        "id": "5OeDk8oMrJLm"
      },
      "outputs": [],
      "source": [
        "from pyspark.sql import SparkSession\n",
        "\n",
        "spark = SparkSession.builder \\\n",
        "        .master(\"local[*]\") \\\n",
        "        .appName(\"DataFrame HandsOn 1\") \\\n",
        "        .config(\"spark.ui.showConsoleProgress\",\"false\") \\\n",
        "        .getOrCreate()\n",
        "\n",
        "online_retail_schema=\"InvoiceNo int, StockCode string, Description string, Quantity int,\\\n",
        "InvoiceDate timestamp,UnitPrice float,CustomerId int, Country string\"\n",
        "\n",
        "df = spark.read \\\n",
        "        .option(\"header\", \"true\") \\\n",
        "        .option(\"timestampFormat\", \"M/d/yyyy H:m\")\\\n",
        "        .csv(\"/content/OnlineRetail.csv\",\n",
        "             schema=online_retail_schema)"
      ]
    },
    {
      "cell_type": "markdown",
      "metadata": {
        "id": "c33yzogYrJLm"
      },
      "source": [
        "Task: Show 5 lines of the \"description\" column"
      ]
    },
    {
      "cell_type": "markdown",
      "metadata": {
        "id": "XsnrYSYPrJLm"
      },
      "source": [
        "Task: Count the number of distinct invoices in the dataframe"
      ]
    },
    {
      "cell_type": "markdown",
      "metadata": {
        "id": "Vvm0QaeErJLm"
      },
      "source": [
        "Task: Find out in which month most invoices have been issued"
      ]
    },
    {
      "cell_type": "markdown",
      "metadata": {
        "id": "7LEyMTWlrJLm"
      },
      "source": [
        "Task: Filter the lines where the Quantity is more than 30"
      ]
    },
    {
      "cell_type": "markdown",
      "metadata": {
        "id": "aVLCaW7PrJLm"
      },
      "source": [
        "Task: Show the four most sold items (by quantity)"
      ]
    },
    {
      "cell_type": "markdown",
      "metadata": {
        "id": "EXgV1IYGrJLm"
      },
      "source": [
        "Bonus question: why do these two operations return different results? Hint: look at the documentation"
      ]
    },
    {
      "cell_type": "code",
      "execution_count": 87,
      "metadata": {
        "colab": {
          "base_uri": "https://localhost:8080/"
        },
        "id": "UV-VeRZQrJLm",
        "outputId": "ef2ed5d5-ce4d-4e41-9377-7f9fc043baa1"
      },
      "outputs": [
        {
          "name": "stdout",
          "output_type": "stream",
          "text": [
            "17026\n",
            "+-------------------------+\n",
            "|count(DISTINCT InvoiceNo)|\n",
            "+-------------------------+\n",
            "|                    17025|\n",
            "+-------------------------+\n",
            "\n"
          ]
        }
      ],
      "source": [
        "print(df.select(\"InvoiceNo\").distinct().count())\n",
        "from pyspark.sql.functions import countDistinct\n",
        "df.select(countDistinct(\"InvoiceNo\")).show()"
      ]
    }
  ],
  "metadata": {
    "celltoolbar": "Slideshow",
    "colab": {
      "provenance": []
    },
    "kernelspec": {
      "display_name": "env",
      "language": "python",
      "name": "python3"
    },
    "language_info": {
      "codemirror_mode": {
        "name": "ipython",
        "version": 3
      },
      "file_extension": ".py",
      "mimetype": "text/x-python",
      "name": "python",
      "nbconvert_exporter": "python",
      "pygments_lexer": "ipython3",
      "version": "3.10.12"
    },
    "sparkconnect": {
      "bundled_options": [],
      "list_of_options": []
    }
  },
  "nbformat": 4,
  "nbformat_minor": 0
}
