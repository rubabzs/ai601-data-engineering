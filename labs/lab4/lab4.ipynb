{
  "cells": [
    {
      "cell_type": "markdown",
      "metadata": {
        "id": "8HnNnrLMrJLJ"
      },
      "source": [
        "## This notebook is part of the Apache Spark training delivered by CERN IT\n"
      ]
    },
    {
      "cell_type": "markdown",
      "metadata": {
        "id": "LuIyGgJQrJLK"
      },
      "source": [
        "Run this notebook from Jupyter with Python kernel\n",
        "- When running on CERN SWAN, do not attach the notebook to a Spark cluster, but rather run it locally on the SWAN container (which is the default)\n",
        "- If running this outside CERN SWAN, please make sure to have PySpark installed: `pip install pyspark`\n",
        "\n",
        "\n",
        "In order to run this notebook as slides:\n",
        " - on SWAN click on the button \"Enter/Exit RISE slideshow\" in the ribbon\n",
        " - on other environments please make sure to have the RISE extension installed `pip install RISE`"
      ]
    },
    {
      "cell_type": "markdown",
      "metadata": {
        "id": "gyNKilPLrJLL"
      },
      "source": [
        "### SPARK DataFrame Hands-On Lab\n",
        "Contact: Luca.Canali@cern.ch\n",
        "\n",
        "### Objective: Perform Basic DataFrame Operations\n",
        "1. Creating DataFrames\n",
        "2. Select columns\n",
        "3. Add, rename and drop columns\n",
        "4. Filtering rows\n",
        "5. Aggregations"
      ]
    },
    {
      "cell_type": "markdown",
      "metadata": {
        "id": "Hi1rnFFerJLM"
      },
      "source": [
        "## Getting started: create the SparkSession"
      ]
    },
    {
      "cell_type": "code",
      "source": [
        "!pip install pyspark"
      ],
      "metadata": {
        "colab": {
          "base_uri": "https://localhost:8080/"
        },
        "id": "JPpy_C2GrNc8",
        "outputId": "f9ef821c-3efe-48be-9706-4589dcfcc29b"
      },
      "execution_count": 1,
      "outputs": [
        {
          "output_type": "stream",
          "name": "stdout",
          "text": [
            "Requirement already satisfied: pyspark in /usr/local/lib/python3.11/dist-packages (3.5.5)\n",
            "Requirement already satisfied: py4j==0.10.9.7 in /usr/local/lib/python3.11/dist-packages (from pyspark) (0.10.9.7)\n"
          ]
        }
      ]
    },
    {
      "cell_type": "code",
      "execution_count": 2,
      "metadata": {
        "scrolled": true,
        "colab": {
          "base_uri": "https://localhost:8080/",
          "height": 219
        },
        "id": "hIg9iY8yrJLM",
        "outputId": "ae9aa1d7-cab8-46c3-f9c9-d7bd75374df9"
      },
      "outputs": [
        {
          "output_type": "execute_result",
          "data": {
            "text/plain": [
              "<pyspark.sql.session.SparkSession at 0x7aed9018d090>"
            ],
            "text/html": [
              "\n",
              "            <div>\n",
              "                <p><b>SparkSession - in-memory</b></p>\n",
              "                \n",
              "        <div>\n",
              "            <p><b>SparkContext</b></p>\n",
              "\n",
              "            <p><a href=\"http://9283d919c25b:4040\">Spark UI</a></p>\n",
              "\n",
              "            <dl>\n",
              "              <dt>Version</dt>\n",
              "                <dd><code>v3.5.5</code></dd>\n",
              "              <dt>Master</dt>\n",
              "                <dd><code>local[*]</code></dd>\n",
              "              <dt>AppName</dt>\n",
              "                <dd><code>DataFrame HandsOn 1</code></dd>\n",
              "            </dl>\n",
              "        </div>\n",
              "        \n",
              "            </div>\n",
              "        "
            ]
          },
          "metadata": {},
          "execution_count": 2
        }
      ],
      "source": [
        "# !pip install pyspark\n",
        "\n",
        "from pyspark.sql import SparkSession\n",
        "\n",
        "spark = (SparkSession.builder\n",
        "          .master(\"local[*]\") \\\n",
        "          .appName(\"DataFrame HandsOn 1\") \\\n",
        "          .config(\"spark.ui.showConsoleProgress\",\"false\") \\\n",
        "          .getOrCreate()\n",
        "        )\n",
        "\n",
        "spark"
      ]
    },
    {
      "cell_type": "markdown",
      "metadata": {
        "id": "ikTo070grJLN"
      },
      "source": [
        "The master `local[*]` means that the executors are in the same node that is running the driver. The `*` tells Spark to start as many executors as there are logical cores available"
      ]
    },
    {
      "cell_type": "markdown",
      "metadata": {
        "id": "cSJSGyY5rJLO"
      },
      "source": [
        "### Hands-On 1 - Construct a DataFrame from csv file\n",
        "This demostrates how to read a csv file and construct a DataFrame.  \n",
        "We will use the online retail dataset from Kaggle, credits: https://www.kaggle.com/datasets/vijayuv/onlineretail\n"
      ]
    },
    {
      "cell_type": "markdown",
      "metadata": {
        "id": "dSjhlX-XrJLP"
      },
      "source": [
        "#### First, let's inspect the csv content"
      ]
    },
    {
      "cell_type": "code",
      "execution_count": 10,
      "metadata": {
        "colab": {
          "base_uri": "https://localhost:8080/"
        },
        "id": "152IyR1_rJLQ",
        "outputId": "e60b18b1-fec4-40b1-a051-edf0696989db"
      },
      "outputs": [
        {
          "output_type": "stream",
          "name": "stdout",
          "text": [
            "['OnlineRetail.csv']\n",
            "/content/extracted_data/online-retail-dataset.csv.gz does not exist. Please ensure the file is available in the zip.\n"
          ]
        }
      ],
      "source": [
        "import zipfile\n",
        "import os\n",
        "\n",
        "# Define the path to the uploaded ZIP file in Colab and the folder where it will be extracted\n",
        "zip_path = '/content/archive.zip'\n",
        "extracted_folder = '/content/extracted_data/'\n",
        "\n",
        "# Unzip the file\n",
        "with zipfile.ZipFile(zip_path, 'r') as zip_ref:\n",
        "    zip_ref.extractall(extracted_folder)\n",
        "\n",
        "# List the contents of the extracted folder\n",
        "extracted_files = os.listdir(extracted_folder)\n",
        "print(extracted_files)\n",
        "\n",
        "# If the file is compressed as .gz (assuming it's in the zip), we can gzip-decompress it here\n",
        "# If it's not compressed, skip gzip and directly use the CSV file.\n",
        "csv_gz_path = os.path.join(extracted_folder, 'online-retail-dataset.csv.gz')\n",
        "\n",
        "# Check if the .gz file exists, and if it does, decompress it\n",
        "if os.path.exists(csv_gz_path):\n",
        "    # Use gzip to view the first few lines\n",
        "    !gzip -cd {csv_gz_path} 2>&1 | head -n 3\n",
        "else:\n",
        "    print(f\"{csv_gz_path} does not exist. Please ensure the file is available in the zip.\")"
      ]
    },
    {
      "cell_type": "code",
      "source": [
        "import gzip\n",
        "import shutil\n",
        "import os\n",
        "\n",
        "# Define the path to the CSV file and the path for the new .gz file\n",
        "csv_file_path = '/content/extracted_data/OnlineRetail.csv'\n",
        "gz_file_path = '/content/extracted_data/online-retail-dataset.csv.gz'\n",
        "\n",
        "# Compress the CSV file into a .gz file\n",
        "with open(csv_file_path, 'rb') as f_in:\n",
        "    with gzip.open(gz_file_path, 'wb') as f_out:\n",
        "        shutil.copyfileobj(f_in, f_out)\n",
        "\n",
        "# Check that the .gz file is created\n",
        "if os.path.exists(gz_file_path):\n",
        "    print(f\"File successfully compressed and saved at: {gz_file_path}\")\n",
        "else:\n",
        "    print(\"Compression failed.\")"
      ],
      "metadata": {
        "colab": {
          "base_uri": "https://localhost:8080/"
        },
        "id": "YZVACS9LcS2b",
        "outputId": "c1d18ccd-0216-4162-8f43-38c3498fb7b1"
      },
      "execution_count": 11,
      "outputs": [
        {
          "output_type": "stream",
          "name": "stdout",
          "text": [
            "File successfully compressed and saved at: /content/extracted_data/online-retail-dataset.csv.gz\n"
          ]
        }
      ]
    },
    {
      "cell_type": "code",
      "execution_count": 12,
      "metadata": {
        "id": "qybMDn5nrJLR"
      },
      "outputs": [],
      "source": [
        "online_retail_schema=\"InvoiceNo int, StockCode string, Description string, Quantity int,\\\n",
        "InvoiceDate timestamp,UnitPrice float,CustomerId int, Country string\""
      ]
    },
    {
      "cell_type": "code",
      "execution_count": 14,
      "metadata": {
        "id": "sv7EHRnLrJLR"
      },
      "outputs": [],
      "source": [
        "df = (spark.read\n",
        "        .option(\"header\", \"true\")\n",
        "        .option(\"timestampFormat\", \"M/d/yyyy H:m\")\n",
        "        .csv(\"/content/extracted_data/online-retail-dataset.csv.gz\",\n",
        "             schema=online_retail_schema)\n",
        "     )"
      ]
    },
    {
      "cell_type": "markdown",
      "metadata": {
        "id": "l13Fs5LHrJLR"
      },
      "source": [
        "#### Inspect the data"
      ]
    },
    {
      "cell_type": "code",
      "execution_count": 15,
      "metadata": {
        "scrolled": true,
        "id": "M_QjfHXqrJLT",
        "outputId": "d2007b01-849b-47cf-a2a4-70f6665ef8d3",
        "colab": {
          "base_uri": "https://localhost:8080/"
        }
      },
      "outputs": [
        {
          "output_type": "stream",
          "name": "stdout",
          "text": [
            "+---------+---------+----------------------------------+--------+-------------------+---------+----------+--------------+\n",
            "|InvoiceNo|StockCode|Description                       |Quantity|InvoiceDate        |UnitPrice|CustomerId|Country       |\n",
            "+---------+---------+----------------------------------+--------+-------------------+---------+----------+--------------+\n",
            "|536365   |85123A   |WHITE HANGING HEART T-LIGHT HOLDER|6       |2010-12-01 08:26:00|2.55     |17850     |United Kingdom|\n",
            "|536365   |71053    |WHITE METAL LANTERN               |6       |2010-12-01 08:26:00|3.39     |17850     |United Kingdom|\n",
            "+---------+---------+----------------------------------+--------+-------------------+---------+----------+--------------+\n",
            "only showing top 2 rows\n",
            "\n"
          ]
        }
      ],
      "source": [
        "df.show(2, False)"
      ]
    },
    {
      "cell_type": "markdown",
      "metadata": {
        "id": "7wELzfkKrJLU"
      },
      "source": [
        "#### Show columns"
      ]
    },
    {
      "cell_type": "code",
      "execution_count": 16,
      "metadata": {
        "id": "BKbNp-ABrJLU",
        "outputId": "abca45d0-0de2-4bce-9d00-477349a394e9",
        "colab": {
          "base_uri": "https://localhost:8080/"
        }
      },
      "outputs": [
        {
          "output_type": "stream",
          "name": "stdout",
          "text": [
            "root\n",
            " |-- InvoiceNo: integer (nullable = true)\n",
            " |-- StockCode: string (nullable = true)\n",
            " |-- Description: string (nullable = true)\n",
            " |-- Quantity: integer (nullable = true)\n",
            " |-- InvoiceDate: timestamp (nullable = true)\n",
            " |-- UnitPrice: float (nullable = true)\n",
            " |-- CustomerId: integer (nullable = true)\n",
            " |-- Country: string (nullable = true)\n",
            "\n"
          ]
        }
      ],
      "source": [
        "df.printSchema()"
      ]
    },
    {
      "cell_type": "markdown",
      "metadata": {
        "id": "9IG2FcvbrJLU"
      },
      "source": [
        "### Hands-On 2 - Spark Transformations - select, add, rename and drop columns"
      ]
    },
    {
      "cell_type": "markdown",
      "metadata": {
        "id": "NWUZGPXHrJLU"
      },
      "source": [
        "Select dataframe columns"
      ]
    },
    {
      "cell_type": "code",
      "execution_count": 17,
      "metadata": {
        "scrolled": true,
        "id": "mtuDLKvtrJLU",
        "outputId": "97d8bfc9-c032-4502-cf03-3010b83a7e23",
        "colab": {
          "base_uri": "https://localhost:8080/"
        }
      },
      "outputs": [
        {
          "output_type": "stream",
          "name": "stdout",
          "text": [
            "+--------------+\n",
            "|       Country|\n",
            "+--------------+\n",
            "|United Kingdom|\n",
            "|United Kingdom|\n",
            "+--------------+\n",
            "only showing top 2 rows\n",
            "\n"
          ]
        }
      ],
      "source": [
        "# select single column\n",
        "\n",
        "df.select(\"Country\").show(2)"
      ]
    },
    {
      "cell_type": "markdown",
      "metadata": {
        "id": "svYP-Nj6rJLU"
      },
      "source": [
        "Select multiple columns\n"
      ]
    },
    {
      "cell_type": "code",
      "execution_count": 18,
      "metadata": {
        "id": "9PRdayYrrJLU",
        "outputId": "7c6b8f50-b781-4ba8-f996-d78ba14b63c6",
        "colab": {
          "base_uri": "https://localhost:8080/"
        }
      },
      "outputs": [
        {
          "output_type": "stream",
          "name": "stdout",
          "text": [
            "+---------+----------------------------------+---------+\n",
            "|StockCode|Description                       |UnitPrice|\n",
            "+---------+----------------------------------+---------+\n",
            "|85123A   |WHITE HANGING HEART T-LIGHT HOLDER|2.55     |\n",
            "|71053    |WHITE METAL LANTERN               |3.39     |\n",
            "+---------+----------------------------------+---------+\n",
            "only showing top 2 rows\n",
            "\n"
          ]
        }
      ],
      "source": [
        "df.select(\"StockCode\",\"Description\",\"UnitPrice\").show(n=2, truncate=False)"
      ]
    },
    {
      "cell_type": "code",
      "execution_count": 19,
      "metadata": {
        "id": "gB4enTonrJLV",
        "outputId": "176db64d-a952-49a8-cf9b-7e624cfcf650",
        "colab": {
          "base_uri": "https://localhost:8080/"
        }
      },
      "outputs": [
        {
          "output_type": "execute_result",
          "data": {
            "text/plain": [
              "['InvoiceNo',\n",
              " 'StockCode',\n",
              " 'Description',\n",
              " 'Quantity',\n",
              " 'InvoiceDate',\n",
              " 'UnitPrice',\n",
              " 'CustomerId',\n",
              " 'Country']"
            ]
          },
          "metadata": {},
          "execution_count": 19
        }
      ],
      "source": [
        "df.columns"
      ]
    },
    {
      "cell_type": "code",
      "execution_count": 20,
      "metadata": {
        "id": "9OuOr9j8rJLV",
        "outputId": "9bf603a8-8c87-4bdf-a4b4-6a9df94299f9",
        "colab": {
          "base_uri": "https://localhost:8080/"
        }
      },
      "outputs": [
        {
          "output_type": "stream",
          "name": "stdout",
          "text": [
            "+---------+---------+--------------------+--------+-------------------+\n",
            "|InvoiceNo|StockCode|         Description|Quantity|        InvoiceDate|\n",
            "+---------+---------+--------------------+--------+-------------------+\n",
            "|   536365|   85123A|WHITE HANGING HEA...|       6|2010-12-01 08:26:00|\n",
            "|   536365|    71053| WHITE METAL LANTERN|       6|2010-12-01 08:26:00|\n",
            "+---------+---------+--------------------+--------+-------------------+\n",
            "only showing top 2 rows\n",
            "\n"
          ]
        }
      ],
      "source": [
        "# select first 5 columns\n",
        "df.select(df.columns[0:5]).show(2)"
      ]
    },
    {
      "cell_type": "code",
      "execution_count": 21,
      "metadata": {
        "id": "OlY1qkVBrJLV",
        "outputId": "c1f8b54b-f1a0-4a4b-bdeb-c66dc0cabdd0",
        "colab": {
          "base_uri": "https://localhost:8080/"
        }
      },
      "outputs": [
        {
          "output_type": "stream",
          "name": "stdout",
          "text": [
            "+---------+---------+--------------------+--------+-------------------+---------+----------+--------------+-------------+\n",
            "|InvoiceNo|StockCode|         Description|Quantity|        InvoiceDate|UnitPrice|CustomerId|       Country|HighValueItem|\n",
            "+---------+---------+--------------------+--------+-------------------+---------+----------+--------------+-------------+\n",
            "|   536365|   85123A|WHITE HANGING HEA...|       6|2010-12-01 08:26:00|     2.55|     17850|United Kingdom|        false|\n",
            "|   536365|    71053| WHITE METAL LANTERN|       6|2010-12-01 08:26:00|     3.39|     17850|United Kingdom|        false|\n",
            "+---------+---------+--------------------+--------+-------------------+---------+----------+--------------+-------------+\n",
            "only showing top 2 rows\n",
            "\n"
          ]
        }
      ],
      "source": [
        "# selects all the original columns and adds a new column that specifies high value item\n",
        "(df.selectExpr(\n",
        "   \"*\", # all original columns\n",
        "   \"(UnitPrice > 100) as HighValueItem\")\n",
        "   .show(2)\n",
        ")"
      ]
    },
    {
      "cell_type": "code",
      "execution_count": 22,
      "metadata": {
        "id": "0IiNqEgTrJLW",
        "outputId": "9ecb7c7c-8ac4-4fe7-9691-f55e397c074b",
        "colab": {
          "base_uri": "https://localhost:8080/"
        }
      },
      "outputs": [
        {
          "output_type": "stream",
          "name": "stdout",
          "text": [
            "+-------------+--------------+\n",
            "|TotalQuantity|InventoryValue|\n",
            "+-------------+--------------+\n",
            "|      5176450|       2498803|\n",
            "+-------------+--------------+\n",
            "\n"
          ]
        }
      ],
      "source": [
        "# selects all the original columns and adds a new column that specifies high value item\n",
        "(df.selectExpr(\n",
        "  \"sum(Quantity) as TotalQuantity\",\n",
        "  \"cast(sum(UnitPrice) as int) as InventoryValue\")\n",
        "  .show()\n",
        ")"
      ]
    },
    {
      "cell_type": "markdown",
      "metadata": {
        "id": "vvSNTynGrJLW"
      },
      "source": [
        "#### Adding, renaming and dropping columns"
      ]
    },
    {
      "cell_type": "code",
      "execution_count": 23,
      "metadata": {
        "id": "l1FQcKONrJLW",
        "outputId": "948ec44e-82a6-48dd-9daa-edec42e3b4b3",
        "colab": {
          "base_uri": "https://localhost:8080/"
        }
      },
      "outputs": [
        {
          "output_type": "stream",
          "name": "stdout",
          "text": [
            "+---------+----------------------------------+---------+--------+------------+\n",
            "|InvoiceNo|Description                       |UnitPrice|Quantity|InvoiceValue|\n",
            "+---------+----------------------------------+---------+--------+------------+\n",
            "|536365   |WHITE HANGING HEART T-LIGHT HOLDER|2.55     |6       |15.299999   |\n",
            "|536365   |WHITE METAL LANTERN               |3.39     |6       |20.34       |\n",
            "+---------+----------------------------------+---------+--------+------------+\n",
            "only showing top 2 rows\n",
            "\n",
            "+---------+----------------------------------+---------+--------+---------+\n",
            "|InvoiceNo|Description                       |UnitPrice|Quantity|LineTotal|\n",
            "+---------+----------------------------------+---------+--------+---------+\n",
            "|536365   |WHITE HANGING HEART T-LIGHT HOLDER|2.55     |6       |15.299999|\n",
            "|536365   |WHITE METAL LANTERN               |3.39     |6       |20.34    |\n",
            "+---------+----------------------------------+---------+--------+---------+\n",
            "only showing top 2 rows\n",
            "\n",
            "+---------+----------------------------------+---------+--------+\n",
            "|InvoiceNo|Description                       |UnitPrice|Quantity|\n",
            "+---------+----------------------------------+---------+--------+\n",
            "|536365   |WHITE HANGING HEART T-LIGHT HOLDER|2.55     |6       |\n",
            "|536365   |WHITE METAL LANTERN               |3.39     |6       |\n",
            "+---------+----------------------------------+---------+--------+\n",
            "only showing top 2 rows\n",
            "\n"
          ]
        }
      ],
      "source": [
        "# add a new column called InvoiceValue\n",
        "from pyspark.sql.functions import expr\n",
        "df_1 = (df\n",
        "        .withColumn(\"InvoiceValue\", expr(\"UnitPrice * Quantity\"))\n",
        "        .select(\"InvoiceNo\",\"Description\",\"UnitPrice\",\"Quantity\",\"InvoiceValue\")\n",
        "       )\n",
        "df_1.show(2, False)\n",
        "\n",
        "# rename InvoiceValue to LineTotal\n",
        "df_2 = df_1.withColumnRenamed(\"InvoiceValue\",\"LineTotal\")\n",
        "df_2.show(2, False)\n",
        "\n",
        "# drop a column\n",
        "df_2.drop(\"LineTotal\").show(2, False)"
      ]
    },
    {
      "cell_type": "markdown",
      "metadata": {
        "id": "yUOj7aBmrJLW"
      },
      "source": [
        "### Hands-On 3 - Spark Transformations - filter, sort and cast"
      ]
    },
    {
      "cell_type": "code",
      "execution_count": 24,
      "metadata": {
        "id": "lvKUpyYgrJLW",
        "outputId": "c793df71-5103-462c-923f-fede5e5e8c88",
        "colab": {
          "base_uri": "https://localhost:8080/"
        }
      },
      "outputs": [
        {
          "output_type": "stream",
          "name": "stdout",
          "text": [
            "+---------+---------+--------------------+--------+-------------------+---------+----------+--------------+\n",
            "|InvoiceNo|StockCode|         Description|Quantity|        InvoiceDate|UnitPrice|CustomerId|       Country|\n",
            "+---------+---------+--------------------+--------+-------------------+---------+----------+--------------+\n",
            "|   556444|    22502|PICNIC BASKET WIC...|      60|2011-06-10 15:28:00|    649.5|     15098|United Kingdom|\n",
            "+---------+---------+--------------------+--------+-------------------+---------+----------+--------------+\n",
            "\n",
            "+---------+---------+--------------------+--------+-------------------+---------+----------+--------------+\n",
            "|InvoiceNo|StockCode|         Description|Quantity|        InvoiceDate|UnitPrice|CustomerId|       Country|\n",
            "+---------+---------+--------------------+--------+-------------------+---------+----------+--------------+\n",
            "|   556444|    22502|PICNIC BASKET WIC...|      60|2011-06-10 15:28:00|    649.5|     15098|United Kingdom|\n",
            "+---------+---------+--------------------+--------+-------------------+---------+----------+--------------+\n",
            "\n",
            "+---------+---------+--------------------+--------+-------------------+---------+----------+--------------+\n",
            "|InvoiceNo|StockCode|         Description|Quantity|        InvoiceDate|UnitPrice|CustomerId|       Country|\n",
            "+---------+---------+--------------------+--------+-------------------+---------+----------+--------------+\n",
            "|   556444|    22502|PICNIC BASKET WIC...|      60|2011-06-10 15:28:00|    649.5|     15098|United Kingdom|\n",
            "+---------+---------+--------------------+--------+-------------------+---------+----------+--------------+\n",
            "\n"
          ]
        }
      ],
      "source": [
        "from pyspark.sql.functions import col\n",
        "\n",
        "# select invoice lines with quantity > 50 and unitprice > 20\n",
        "df.where(col(\"Quantity\") > 20).where(col(\"UnitPrice\") > 50).show(2)\n",
        "df.filter(df.Quantity > 20).filter(df.UnitPrice > 50).show(2)\n",
        "df.filter(\"Quantity > 20 and UnitPrice > 50\").show(2)"
      ]
    },
    {
      "cell_type": "code",
      "execution_count": 25,
      "metadata": {
        "id": "sjlaB_QDrJLW",
        "outputId": "02718c77-0c70-40e7-8ecd-3f0391ff5b13",
        "colab": {
          "base_uri": "https://localhost:8080/"
        }
      },
      "outputs": [
        {
          "output_type": "stream",
          "name": "stdout",
          "text": [
            "+---------+---------+--------------------+--------+-------------------+---------+----------+--------------+\n",
            "|InvoiceNo|StockCode|         Description|Quantity|        InvoiceDate|UnitPrice|CustomerId|       Country|\n",
            "+---------+---------+--------------------+--------+-------------------+---------+----------+--------------+\n",
            "|   536378|    21212|PACK OF 72 RETROS...|     120|2010-12-01 09:37:00|     0.42|     14688|United Kingdom|\n",
            "|     NULL|        D|            Discount|      -1|2010-12-01 09:41:00|     27.5|     14527|United Kingdom|\n",
            "+---------+---------+--------------------+--------+-------------------+---------+----------+--------------+\n",
            "only showing top 2 rows\n",
            "\n"
          ]
        }
      ],
      "source": [
        "# select invoice lines with quantity > 100 or unitprice > 20\n",
        "df.where((col(\"Quantity\") > 100) | (col(\"UnitPrice\") > 20)).show(2)"
      ]
    },
    {
      "cell_type": "code",
      "execution_count": 26,
      "metadata": {
        "id": "-hFuqWHVrJLX",
        "outputId": "b7ad390a-5279-4a23-b396-1f574a56fb19",
        "colab": {
          "base_uri": "https://localhost:8080/"
        }
      },
      "outputs": [
        {
          "output_type": "stream",
          "name": "stdout",
          "text": [
            "+---------+---------+---------------+--------+-------------------+---------+----------+--------------+\n",
            "|InvoiceNo|StockCode|    Description|Quantity|        InvoiceDate|UnitPrice|CustomerId|       Country|\n",
            "+---------+---------+---------------+--------+-------------------+---------+----------+--------------+\n",
            "|     NULL|        B|Adjust bad debt|       1|2011-08-12 14:51:00|-11062.06|      NULL|United Kingdom|\n",
            "|     NULL|        B|Adjust bad debt|       1|2011-08-12 14:52:00|-11062.06|      NULL|United Kingdom|\n",
            "+---------+---------+---------------+--------+-------------------+---------+----------+--------------+\n",
            "only showing top 2 rows\n",
            "\n",
            "+---------+---------+--------------------+--------+-------------------+---------+----------+--------------+\n",
            "|InvoiceNo|StockCode|         Description|Quantity|        InvoiceDate|UnitPrice|CustomerId|       Country|\n",
            "+---------+---------+--------------------+--------+-------------------+---------+----------+--------------+\n",
            "|   581483|    23843|PAPER CRAFT , LIT...|   80995|2011-12-09 09:15:00|     2.08|     16446|United Kingdom|\n",
            "|   541431|    23166|MEDIUM CERAMIC TO...|   74215|2011-01-18 10:01:00|     1.04|     12346|United Kingdom|\n",
            "|   578841|    84826|ASSTD DESIGN 3D P...|   12540|2011-11-25 15:57:00|      0.0|     13256|United Kingdom|\n",
            "|   542504|    37413|                NULL|    5568|2011-01-28 12:03:00|      0.0|      NULL|United Kingdom|\n",
            "|   573008|    84077|WORLD WAR 2 GLIDE...|    4800|2011-10-27 12:26:00|     0.21|     12901|United Kingdom|\n",
            "|   554868|    22197|SMALL POPCORN HOLDER|    4300|2011-05-27 10:52:00|     0.72|     13135|United Kingdom|\n",
            "|   556231|   85123A|                   ?|    4000|2011-06-09 15:04:00|      0.0|      NULL|United Kingdom|\n",
            "|   544612|    22053|EMPIRE DESIGN ROS...|    3906|2011-02-22 10:43:00|     0.82|     18087|United Kingdom|\n",
            "|   560599|    18007|ESSENTIAL BALM 3....|    3186|2011-07-19 17:04:00|     0.06|     14609|United Kingdom|\n",
            "|   550461|    21108|FAIRY CAKE FLANNE...|    3114|2011-04-18 13:20:00|      2.1|     15749|United Kingdom|\n",
            "+---------+---------+--------------------+--------+-------------------+---------+----------+--------------+\n",
            "only showing top 10 rows\n",
            "\n"
          ]
        }
      ],
      "source": [
        "from pyspark.sql.functions import desc, asc\n",
        "\n",
        "# sort in the default order: ascending\n",
        "df.orderBy(expr(\"UnitPrice\")).show(2)\n",
        "\n",
        "df.orderBy(col(\"Quantity\").desc(), col(\"UnitPrice\").asc()).show(10)"
      ]
    },
    {
      "cell_type": "markdown",
      "metadata": {
        "id": "fkxQOf0brJLX"
      },
      "source": [
        "### Hands-On 4 - Spark Transformations - aggregations\n",
        "full list of built int functions - https://spark.apache.org/docs/latest/api/python/reference/pyspark.sql.html#functions"
      ]
    },
    {
      "cell_type": "code",
      "execution_count": 27,
      "metadata": {
        "id": "X0gIYcIprJLX",
        "outputId": "c0485e81-88b6-433a-dc13-b76c4cb647fa",
        "colab": {
          "base_uri": "https://localhost:8080/"
        }
      },
      "outputs": [
        {
          "output_type": "stream",
          "name": "stdout",
          "text": [
            "+--------------------------+\n",
            "|count(DISTINCT CustomerID)|\n",
            "+--------------------------+\n",
            "|                      4372|\n",
            "+--------------------------+\n",
            "\n",
            "CPU times: user 14.7 ms, sys: 2.95 ms, total: 17.7 ms\n",
            "Wall time: 2.27 s\n"
          ]
        }
      ],
      "source": [
        "%%time\n",
        "# Count distinct customers\n",
        "from pyspark.sql.functions import countDistinct\n",
        "df.select(countDistinct(\"CustomerID\")).show()"
      ]
    },
    {
      "cell_type": "code",
      "execution_count": 28,
      "metadata": {
        "id": "rIcYKGymrJLX",
        "outputId": "97c3d0d0-f194-4d07-ebab-a0a144c51b52",
        "colab": {
          "base_uri": "https://localhost:8080/"
        }
      },
      "outputs": [
        {
          "output_type": "stream",
          "name": "stdout",
          "text": [
            "+---------------------------------+\n",
            "|approx_count_distinct(CustomerID)|\n",
            "+---------------------------------+\n",
            "|                             4336|\n",
            "+---------------------------------+\n",
            "\n",
            "CPU times: user 15.9 ms, sys: 2.63 ms, total: 18.6 ms\n",
            "Wall time: 2.06 s\n"
          ]
        }
      ],
      "source": [
        "%%time\n",
        "# approx. distinct stock items\n",
        "from pyspark.sql.functions import approx_count_distinct\n",
        "df.select(approx_count_distinct(\"CustomerID\", 0.1)).show()"
      ]
    },
    {
      "cell_type": "code",
      "execution_count": 29,
      "metadata": {
        "id": "0FGqJXjgrJLX",
        "outputId": "d7e87211-ecb6-44a7-f61f-a40b4dac454c",
        "colab": {
          "base_uri": "https://localhost:8080/"
        }
      },
      "outputs": [
        {
          "output_type": "stream",
          "name": "stdout",
          "text": [
            "+----------------+-------------+-------------+\n",
            "|   avg_purchases|max_purchases|min_purchases|\n",
            "+----------------+-------------+-------------+\n",
            "|9.55224954743324|        80995|       -80995|\n",
            "+----------------+-------------+-------------+\n",
            "\n"
          ]
        }
      ],
      "source": [
        "# average, maximum and minimum purchase quantity\n",
        "from pyspark.sql.functions import avg, max, min\n",
        "( df.select(\n",
        "    avg(\"Quantity\").alias(\"avg_purchases\"),\n",
        "    max(\"Quantity\").alias(\"max_purchases\"),\n",
        "    min(\"Quantity\").alias(\"min_purchases\"))\n",
        "   .show()\n",
        ")"
      ]
    },
    {
      "cell_type": "markdown",
      "metadata": {
        "id": "u1Wt3dqNrJLX"
      },
      "source": [
        "### Hands-On 5 - Spark Transformations - grouping and windows"
      ]
    },
    {
      "cell_type": "code",
      "execution_count": 30,
      "metadata": {
        "id": "ivM-iICerJLY",
        "outputId": "850512b2-86a1-400a-daee-8cbc27c2cfda",
        "colab": {
          "base_uri": "https://localhost:8080/"
        }
      },
      "outputs": [
        {
          "output_type": "stream",
          "name": "stdout",
          "text": [
            "+---------+----------+-----+\n",
            "|InvoiceNo|CustomerId|count|\n",
            "+---------+----------+-----+\n",
            "|   536573|     17025|    4|\n",
            "|   537228|     17677|    1|\n",
            "|   537419|     13495|   14|\n",
            "|   538093|     12682|   33|\n",
            "|   538648|     17937|    5|\n",
            "+---------+----------+-----+\n",
            "only showing top 5 rows\n",
            "\n",
            "+---------+------------------+--------------------+\n",
            "|InvoiceNo|     avg(Quantity)|stddev_pop(Quantity)|\n",
            "+---------+------------------+--------------------+\n",
            "|   536532| 25.36986301369863|  16.850272831671976|\n",
            "|   537632|               1.0|                 0.0|\n",
            "|   538708| 10.61111111111111|   7.150282736359209|\n",
            "|   538877|14.258278145695364|   27.56989037543246|\n",
            "|   538993| 9.333333333333334|   2.748737083745107|\n",
            "+---------+------------------+--------------------+\n",
            "only showing top 5 rows\n",
            "\n"
          ]
        }
      ],
      "source": [
        "# count of items on the invoice\n",
        "df.groupBy(\"InvoiceNo\", \"CustomerId\").count().show(5)\n",
        "\n",
        "# grouping with expressions\n",
        "df.groupBy(\"InvoiceNo\").agg(expr(\"avg(Quantity)\"),expr(\"stddev_pop(Quantity)\"))\\\n",
        "  .show(5)"
      ]
    },
    {
      "cell_type": "markdown",
      "metadata": {
        "id": "SRr2f8chrJLY"
      },
      "source": [
        "### Read the csv file into DataFrame\n",
        "\n",
        "`%%time` is an iPython magic https://ipython.readthedocs.io/en/stable/interactive/magics.html\n"
      ]
    },
    {
      "cell_type": "markdown",
      "metadata": {
        "id": "74yUqIPHrJLY"
      },
      "source": [
        "It's possible to read files without specifying the schema. Some file formats (Parquet is one of them) include the schema, which means that Spark can start reading the file. For format without schema (csv, json...) Spark can infer the schema. Let's see what's the difference in terms of time and of results:"
      ]
    },
    {
      "cell_type": "code",
      "execution_count": 31,
      "metadata": {
        "id": "nqSkQm4RrJLY"
      },
      "outputs": [],
      "source": [
        "online_retail_schema=\"InvoiceNo int, StockCode string, Description string, Quantity int,\\\n",
        "InvoiceDate timestamp,UnitPrice float,CustomerId int, Country string\""
      ]
    },
    {
      "cell_type": "code",
      "execution_count": 36,
      "metadata": {
        "id": "sZLNaGJ-rJLl",
        "outputId": "a602032a-5980-4f7e-e59b-29e705391075",
        "colab": {
          "base_uri": "https://localhost:8080/"
        }
      },
      "outputs": [
        {
          "output_type": "stream",
          "name": "stdout",
          "text": [
            "CPU times: user 2.9 ms, sys: 1.14 ms, total: 4.05 ms\n",
            "Wall time: 38.9 ms\n"
          ]
        }
      ],
      "source": [
        "%%time\n",
        "df = spark.read \\\n",
        "        .option(\"header\", \"true\") \\\n",
        "        .option(\"timestampFormat\", \"M/d/yyyy H:m\")\\\n",
        "        .csv(\"/content/extracted_data/online-retail-dataset.csv.gz\",\n",
        "             schema=online_retail_schema)"
      ]
    },
    {
      "cell_type": "code",
      "execution_count": 37,
      "metadata": {
        "scrolled": true,
        "id": "6KiCslK1rJLl",
        "outputId": "7eeb7545-9614-4f14-905a-086857f0e76a",
        "colab": {
          "base_uri": "https://localhost:8080/"
        }
      },
      "outputs": [
        {
          "output_type": "stream",
          "name": "stdout",
          "text": [
            "CPU times: user 15.3 ms, sys: 661 µs, total: 16 ms\n",
            "Wall time: 2.21 s\n"
          ]
        }
      ],
      "source": [
        "%%time\n",
        "df_infer = spark.read \\\n",
        "        .option(\"header\", \"true\") \\\n",
        "        .option(\"inferSchema\", \"true\") \\\n",
        "        .csv(\"/content/extracted_data/online-retail-dataset.csv.gz\")"
      ]
    },
    {
      "cell_type": "markdown",
      "metadata": {
        "id": "BORYSMbTrJLl"
      },
      "source": [
        "## Exercises"
      ]
    },
    {
      "cell_type": "markdown",
      "metadata": {
        "id": "Uh8CsapArJLm"
      },
      "source": [
        "Reminder: documentation at\n",
        "https://spark.apache.org/docs/latest/api/python/index.html"
      ]
    },
    {
      "cell_type": "markdown",
      "metadata": {
        "id": "UHuZbdsvrJLm"
      },
      "source": [
        "If you didn't run the previous cells, run the following one:"
      ]
    },
    {
      "cell_type": "code",
      "execution_count": 38,
      "metadata": {
        "id": "5OeDk8oMrJLm"
      },
      "outputs": [],
      "source": [
        "from pyspark.sql import SparkSession\n",
        "\n",
        "spark = SparkSession.builder \\\n",
        "        .master(\"local[*]\") \\\n",
        "        .appName(\"DataFrame HandsOn 1\") \\\n",
        "        .config(\"spark.ui.showConsoleProgress\",\"false\") \\\n",
        "        .getOrCreate()\n",
        "\n",
        "online_retail_schema=\"InvoiceNo int, StockCode string, Description string, Quantity int,\\\n",
        "InvoiceDate timestamp,UnitPrice float,CustomerId int, Country string\"\n",
        "\n",
        "df = spark.read \\\n",
        "        .option(\"header\", \"true\") \\\n",
        "        .option(\"timestampFormat\", \"M/d/yyyy H:m\")\\\n",
        "        .csv(\"/content/extracted_data/online-retail-dataset.csv.gz\",\n",
        "             schema=online_retail_schema)"
      ]
    },
    {
      "cell_type": "markdown",
      "metadata": {
        "id": "c33yzogYrJLm"
      },
      "source": [
        "Task: Show 5 lines of the \"description\" column"
      ]
    },
    {
      "cell_type": "code",
      "source": [
        "# Select the 'Description' column and show the first 5 rows\n",
        "df.select(\"Description\").show(5, False)\n"
      ],
      "metadata": {
        "colab": {
          "base_uri": "https://localhost:8080/"
        },
        "id": "-c0OYZ3Kdmt4",
        "outputId": "d3741921-f672-4ead-bf7e-76ca35771f4f"
      },
      "execution_count": 39,
      "outputs": [
        {
          "output_type": "stream",
          "name": "stdout",
          "text": [
            "+-----------------------------------+\n",
            "|Description                        |\n",
            "+-----------------------------------+\n",
            "|WHITE HANGING HEART T-LIGHT HOLDER |\n",
            "|WHITE METAL LANTERN                |\n",
            "|CREAM CUPID HEARTS COAT HANGER     |\n",
            "|KNITTED UNION FLAG HOT WATER BOTTLE|\n",
            "|RED WOOLLY HOTTIE WHITE HEART.     |\n",
            "+-----------------------------------+\n",
            "only showing top 5 rows\n",
            "\n"
          ]
        }
      ]
    },
    {
      "cell_type": "markdown",
      "metadata": {
        "id": "XsnrYSYPrJLm"
      },
      "source": [
        "Task: Count the number of distinct invoices in the dataframe"
      ]
    },
    {
      "cell_type": "code",
      "source": [
        "# Count the number of distinct invoices (InvoiceNo column)\n",
        "df.select(\"InvoiceNo\").distinct().count()\n"
      ],
      "metadata": {
        "colab": {
          "base_uri": "https://localhost:8080/"
        },
        "id": "L49zEh9cdstS",
        "outputId": "2e7d3d74-fd4e-4e37-a862-4b06f8e068f4"
      },
      "execution_count": 40,
      "outputs": [
        {
          "output_type": "execute_result",
          "data": {
            "text/plain": [
              "22062"
            ]
          },
          "metadata": {},
          "execution_count": 40
        }
      ]
    },
    {
      "cell_type": "markdown",
      "metadata": {
        "id": "Vvm0QaeErJLm"
      },
      "source": [
        "Task: Find out in which month most invoices have been issued"
      ]
    },
    {
      "cell_type": "code",
      "source": [
        "from pyspark.sql.functions import month, count\n",
        "\n",
        "# Extract the month from the 'InvoiceDate' and count the number of invoices per month\n",
        "df_with_month = df.withColumn(\"Month\", month(\"InvoiceDate\"))\n",
        "\n",
        "# Group by 'Month' and count the invoices, then order by the count in descending order to get the month with the most invoices\n",
        "df_with_month.groupBy(\"Month\").agg(count(\"InvoiceNo\").alias(\"InvoiceCount\"))\\\n",
        "    .orderBy(\"InvoiceCount\", ascending=False).show(1)\n"
      ],
      "metadata": {
        "colab": {
          "base_uri": "https://localhost:8080/"
        },
        "id": "I8kndTbRdyIV",
        "outputId": "60b80356-c703-431e-d887-5b03548e16d4"
      },
      "execution_count": 41,
      "outputs": [
        {
          "output_type": "stream",
          "name": "stdout",
          "text": [
            "+-----+------------+\n",
            "|Month|InvoiceCount|\n",
            "+-----+------------+\n",
            "|   11|       83635|\n",
            "+-----+------------+\n",
            "only showing top 1 row\n",
            "\n"
          ]
        }
      ]
    },
    {
      "cell_type": "markdown",
      "metadata": {
        "id": "7LEyMTWlrJLm"
      },
      "source": [
        "Task: Filter the lines where the Quantity is more than 30"
      ]
    },
    {
      "cell_type": "code",
      "source": [
        "# Filter rows where Quantity is greater than 30\n",
        "df.filter(df.Quantity > 30).show(5)\n"
      ],
      "metadata": {
        "colab": {
          "base_uri": "https://localhost:8080/"
        },
        "id": "trW9PMfEd6RS",
        "outputId": "18e25c91-8bb2-4708-c01f-ae5f3ed89055"
      },
      "execution_count": 42,
      "outputs": [
        {
          "output_type": "stream",
          "name": "stdout",
          "text": [
            "+---------+---------+--------------------+--------+-------------------+---------+----------+--------------+\n",
            "|InvoiceNo|StockCode|         Description|Quantity|        InvoiceDate|UnitPrice|CustomerId|       Country|\n",
            "+---------+---------+--------------------+--------+-------------------+---------+----------+--------------+\n",
            "|   536367|    84879|ASSORTED COLOUR B...|      32|2010-12-01 08:34:00|     1.69|     13047|United Kingdom|\n",
            "|   536370|    10002|INFLATABLE POLITI...|      48|2010-12-01 08:45:00|     0.85|     12583|        France|\n",
            "|   536370|    22492|MINI PAINT SET VI...|      36|2010-12-01 08:45:00|     0.65|     12583|        France|\n",
            "|   536371|    22086|PAPER CHAIN KIT 5...|      80|2010-12-01 09:00:00|     2.55|     13748|United Kingdom|\n",
            "|   536374|    21258|VICTORIAN SEWING ...|      32|2010-12-01 09:09:00|    10.95|     15100|United Kingdom|\n",
            "+---------+---------+--------------------+--------+-------------------+---------+----------+--------------+\n",
            "only showing top 5 rows\n",
            "\n"
          ]
        }
      ]
    },
    {
      "cell_type": "markdown",
      "metadata": {
        "id": "aVLCaW7PrJLm"
      },
      "source": [
        "Task: Show the four most sold items (by quantity)"
      ]
    },
    {
      "cell_type": "code",
      "source": [
        "from pyspark.sql.functions import sum\n",
        "\n",
        "# Group by 'Description' and sum the 'Quantity', then order by the sum of Quantity in descending order\n",
        "df.groupBy(\"Description\")\\\n",
        "  .agg(sum(\"Quantity\").alias(\"TotalQuantity\"))\\\n",
        "  .orderBy(\"TotalQuantity\", ascending=False)\\\n",
        "  .show(4, False)\n"
      ],
      "metadata": {
        "colab": {
          "base_uri": "https://localhost:8080/"
        },
        "id": "ZE5W23sxeBWR",
        "outputId": "2546fb46-76db-4cf7-c979-b42df915da69"
      },
      "execution_count": 43,
      "outputs": [
        {
          "output_type": "stream",
          "name": "stdout",
          "text": [
            "+---------------------------------+-------------+\n",
            "|Description                      |TotalQuantity|\n",
            "+---------------------------------+-------------+\n",
            "|WORLD WAR 2 GLIDERS ASSTD DESIGNS|53847        |\n",
            "|JUMBO BAG RED RETROSPOT          |47363        |\n",
            "|ASSORTED COLOUR BIRD ORNAMENT    |36381        |\n",
            "|POPCORN HOLDER                   |36334        |\n",
            "+---------------------------------+-------------+\n",
            "only showing top 4 rows\n",
            "\n"
          ]
        }
      ]
    },
    {
      "cell_type": "markdown",
      "metadata": {
        "id": "EXgV1IYGrJLm"
      },
      "source": [
        "Bonus question: why do these two operations return different results? Hint: look at the documentation"
      ]
    },
    {
      "cell_type": "code",
      "execution_count": 44,
      "metadata": {
        "id": "UV-VeRZQrJLm",
        "colab": {
          "base_uri": "https://localhost:8080/"
        },
        "outputId": "9da85f82-a92f-4040-d97f-53c498ce675a"
      },
      "outputs": [
        {
          "output_type": "stream",
          "name": "stdout",
          "text": [
            "22062\n",
            "+-------------------------+\n",
            "|count(DISTINCT InvoiceNo)|\n",
            "+-------------------------+\n",
            "|                    22061|\n",
            "+-------------------------+\n",
            "\n"
          ]
        }
      ],
      "source": [
        "print(df.select(\"InvoiceNo\").distinct().count())\n",
        "from pyspark.sql.functions import countDistinct\n",
        "df.select(countDistinct(\"InvoiceNo\")).show()"
      ]
    },
    {
      "cell_type": "markdown",
      "source": [
        "The difference between the two operations is due to how they handle `NULL` values. The `distinct().count()` method counts distinct `InvoiceNo` values excluding `NULL` values, while `countDistinct()` may handle `NULL` values slightly differently due to internal optimizations in Spark. In this case, the discrepancy of one less count in the `countDistinct()` operation suggests that there is a `NULL` value in the `InvoiceNo` column, which is excluded from the `countDistinct()` operation but not in the `distinct().count()` method."
      ],
      "metadata": {
        "id": "P1oNLfXBea_7"
      }
    }
  ],
  "metadata": {
    "celltoolbar": "Slideshow",
    "kernelspec": {
      "display_name": "Python 3 (ipykernel)",
      "language": "python",
      "name": "python3"
    },
    "language_info": {
      "codemirror_mode": {
        "name": "ipython",
        "version": 3
      },
      "file_extension": ".py",
      "mimetype": "text/x-python",
      "name": "python",
      "nbconvert_exporter": "python",
      "pygments_lexer": "ipython3",
      "version": "3.9.13"
    },
    "sparkconnect": {
      "bundled_options": [],
      "list_of_options": []
    },
    "colab": {
      "provenance": []
    }
  },
  "nbformat": 4,
  "nbformat_minor": 0
}