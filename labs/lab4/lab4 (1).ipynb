{
  "cells": [
    {
      "cell_type": "markdown",
      "metadata": {
        "id": "8HnNnrLMrJLJ"
      },
      "source": [
        "## This notebook is part of the Apache Spark training delivered by CERN IT\n"
      ]
    },
    {
      "cell_type": "markdown",
      "metadata": {
        "id": "LuIyGgJQrJLK"
      },
      "source": [
        "Run this notebook from Jupyter with Python kernel\n",
        "- When running on CERN SWAN, do not attach the notebook to a Spark cluster, but rather run it locally on the SWAN container (which is the default)\n",
        "- If running this outside CERN SWAN, please make sure to have PySpark installed: `pip install pyspark`\n",
        "\n",
        "\n",
        "In order to run this notebook as slides:\n",
        " - on SWAN click on the button \"Enter/Exit RISE slideshow\" in the ribbon\n",
        " - on other environments please make sure to have the RISE extension installed `pip install RISE`"
      ]
    },
    {
      "cell_type": "markdown",
      "metadata": {
        "id": "gyNKilPLrJLL"
      },
      "source": [
        "### SPARK DataFrame Hands-On Lab\n",
        "Contact: Luca.Canali@cern.ch\n",
        "\n",
        "### Objective: Perform Basic DataFrame Operations\n",
        "1. Creating DataFrames\n",
        "2. Select columns\n",
        "3. Add, rename and drop columns\n",
        "4. Filtering rows\n",
        "5. Aggregations"
      ]
    },
    {
      "cell_type": "markdown",
      "metadata": {
        "id": "Hi1rnFFerJLM"
      },
      "source": [
        "## Getting started: create the SparkSession"
      ]
    },
    {
      "cell_type": "code",
      "source": [
        "!pip install pyspark"
      ],
      "metadata": {
        "colab": {
          "base_uri": "https://localhost:8080/"
        },
        "id": "JPpy_C2GrNc8",
        "outputId": "45edbbac-2b31-485f-d1b8-e8064c5b8391"
      },
      "execution_count": 1,
      "outputs": [
        {
          "output_type": "stream",
          "name": "stdout",
          "text": [
            "Requirement already satisfied: pyspark in /usr/local/lib/python3.11/dist-packages (3.5.5)\n",
            "Requirement already satisfied: py4j==0.10.9.7 in /usr/local/lib/python3.11/dist-packages (from pyspark) (0.10.9.7)\n"
          ]
        }
      ]
    },
    {
      "cell_type": "code",
      "execution_count": 2,
      "metadata": {
        "scrolled": true,
        "colab": {
          "base_uri": "https://localhost:8080/",
          "height": 219
        },
        "id": "hIg9iY8yrJLM",
        "outputId": "8e7b17bd-b78f-4d4b-f990-3772e9205d1d"
      },
      "outputs": [
        {
          "output_type": "execute_result",
          "data": {
            "text/plain": [
              "<pyspark.sql.session.SparkSession at 0x7de668c33610>"
            ],
            "text/html": [
              "\n",
              "            <div>\n",
              "                <p><b>SparkSession - in-memory</b></p>\n",
              "                \n",
              "        <div>\n",
              "            <p><b>SparkContext</b></p>\n",
              "\n",
              "            <p><a href=\"http://21632f400d59:4040\">Spark UI</a></p>\n",
              "\n",
              "            <dl>\n",
              "              <dt>Version</dt>\n",
              "                <dd><code>v3.5.5</code></dd>\n",
              "              <dt>Master</dt>\n",
              "                <dd><code>local[*]</code></dd>\n",
              "              <dt>AppName</dt>\n",
              "                <dd><code>DataFrame HandsOn 1</code></dd>\n",
              "            </dl>\n",
              "        </div>\n",
              "        \n",
              "            </div>\n",
              "        "
            ]
          },
          "metadata": {},
          "execution_count": 2
        }
      ],
      "source": [
        "# !pip install pyspark\n",
        "\n",
        "from pyspark.sql import SparkSession\n",
        "\n",
        "spark = (SparkSession.builder\n",
        "          .master(\"local[*]\") \\\n",
        "          .appName(\"DataFrame HandsOn 1\") \\\n",
        "          .config(\"spark.ui.showConsoleProgress\",\"false\") \\\n",
        "          .getOrCreate()\n",
        "        )\n",
        "\n",
        "spark"
      ]
    },
    {
      "cell_type": "markdown",
      "metadata": {
        "id": "ikTo070grJLN"
      },
      "source": [
        "The master `local[*]` means that the executors are in the same node that is running the driver. The `*` tells Spark to start as many executors as there are logical cores available"
      ]
    },
    {
      "cell_type": "markdown",
      "metadata": {
        "id": "cSJSGyY5rJLO"
      },
      "source": [
        "### Hands-On 1 - Construct a DataFrame from csv file\n",
        "This demostrates how to read a csv file and construct a DataFrame.  \n",
        "We will use the online retail dataset from Kaggle, credits: https://www.kaggle.com/datasets/vijayuv/onlineretail\n"
      ]
    },
    {
      "cell_type": "markdown",
      "metadata": {
        "id": "dSjhlX-XrJLP"
      },
      "source": [
        "#### First, let's inspect the csv content"
      ]
    },
    {
      "cell_type": "code",
      "execution_count": 3,
      "metadata": {
        "colab": {
          "base_uri": "https://localhost:8080/"
        },
        "id": "152IyR1_rJLQ",
        "outputId": "c0d66dc4-6541-4ef7-a5c3-7de1970ca895"
      },
      "outputs": [
        {
          "output_type": "stream",
          "name": "stdout",
          "text": [
            "\n",
            "gzip: /content/OnlineRetail.csv: not in gzip format\n"
          ]
        }
      ],
      "source": [
        "#modify below code to use the downloaded dataset\n",
        "\n",
        "!gzip -cd /content/OnlineRetail.csv 2>&1| head -n3"
      ]
    },
    {
      "cell_type": "code",
      "execution_count": 4,
      "metadata": {
        "id": "qybMDn5nrJLR"
      },
      "outputs": [],
      "source": [
        "online_retail_schema=\"InvoiceNo int, StockCode string, Description string, Quantity int,\\\n",
        "InvoiceDate timestamp,UnitPrice float,CustomerId int, Country string\""
      ]
    },
    {
      "cell_type": "code",
      "execution_count": 5,
      "metadata": {
        "id": "sv7EHRnLrJLR"
      },
      "outputs": [],
      "source": [
        "data_path='/content/OnlineRetail.csv'\n",
        "df = (spark.read\n",
        "        .option(\"header\", \"true\")\n",
        "        .option(\"timestampFormat\", \"M/d/yyyy H:m\")\n",
        "        .csv(data_path,\n",
        "             schema=online_retail_schema)\n",
        "     )"
      ]
    },
    {
      "cell_type": "markdown",
      "metadata": {
        "id": "l13Fs5LHrJLR"
      },
      "source": [
        "#### Inspect the data"
      ]
    },
    {
      "cell_type": "code",
      "execution_count": 7,
      "metadata": {
        "scrolled": true,
        "id": "M_QjfHXqrJLT",
        "outputId": "ecbfcfbf-e0fe-4686-998c-2aff49025ece",
        "colab": {
          "base_uri": "https://localhost:8080/"
        }
      },
      "outputs": [
        {
          "output_type": "stream",
          "name": "stdout",
          "text": [
            "+---------+---------+----------------------------------+--------+-------------------+---------+----------+--------------+\n",
            "|InvoiceNo|StockCode|Description                       |Quantity|InvoiceDate        |UnitPrice|CustomerId|Country       |\n",
            "+---------+---------+----------------------------------+--------+-------------------+---------+----------+--------------+\n",
            "|536365   |85123A   |WHITE HANGING HEART T-LIGHT HOLDER|6       |2010-12-01 08:26:00|2.55     |17850     |United Kingdom|\n",
            "|536365   |71053    |WHITE METAL LANTERN               |6       |2010-12-01 08:26:00|3.39     |17850     |United Kingdom|\n",
            "+---------+---------+----------------------------------+--------+-------------------+---------+----------+--------------+\n",
            "only showing top 2 rows\n",
            "\n"
          ]
        }
      ],
      "source": [
        "df.show(2, False)"
      ]
    },
    {
      "cell_type": "markdown",
      "metadata": {
        "id": "7wELzfkKrJLU"
      },
      "source": [
        "#### Show columns"
      ]
    },
    {
      "cell_type": "code",
      "execution_count": 6,
      "metadata": {
        "id": "BKbNp-ABrJLU",
        "outputId": "afee408c-31da-434e-ac08-dd730f777415",
        "colab": {
          "base_uri": "https://localhost:8080/"
        }
      },
      "outputs": [
        {
          "output_type": "stream",
          "name": "stdout",
          "text": [
            "root\n",
            " |-- InvoiceNo: integer (nullable = true)\n",
            " |-- StockCode: string (nullable = true)\n",
            " |-- Description: string (nullable = true)\n",
            " |-- Quantity: integer (nullable = true)\n",
            " |-- InvoiceDate: timestamp (nullable = true)\n",
            " |-- UnitPrice: float (nullable = true)\n",
            " |-- CustomerId: integer (nullable = true)\n",
            " |-- Country: string (nullable = true)\n",
            "\n"
          ]
        }
      ],
      "source": [
        "df.printSchema()"
      ]
    },
    {
      "cell_type": "code",
      "source": [],
      "metadata": {
        "id": "_caeK5I5oRmS"
      },
      "execution_count": null,
      "outputs": []
    },
    {
      "cell_type": "markdown",
      "metadata": {
        "id": "9IG2FcvbrJLU"
      },
      "source": [
        "### Hands-On 2 - Spark Transformations - select, add, rename and drop columns"
      ]
    },
    {
      "cell_type": "markdown",
      "metadata": {
        "id": "NWUZGPXHrJLU"
      },
      "source": [
        "Select dataframe columns"
      ]
    },
    {
      "cell_type": "code",
      "execution_count": 8,
      "metadata": {
        "scrolled": true,
        "id": "mtuDLKvtrJLU",
        "outputId": "a3c236cf-b25d-46ab-937d-37d86a03a0b1",
        "colab": {
          "base_uri": "https://localhost:8080/"
        }
      },
      "outputs": [
        {
          "output_type": "stream",
          "name": "stdout",
          "text": [
            "+--------------+\n",
            "|       Country|\n",
            "+--------------+\n",
            "|United Kingdom|\n",
            "|United Kingdom|\n",
            "+--------------+\n",
            "only showing top 2 rows\n",
            "\n"
          ]
        }
      ],
      "source": [
        "# select single column\n",
        "\n",
        "df.select(\"Country\").show(2)"
      ]
    },
    {
      "cell_type": "markdown",
      "metadata": {
        "id": "svYP-Nj6rJLU"
      },
      "source": [
        "Select multiple columns\n"
      ]
    },
    {
      "cell_type": "code",
      "execution_count": 9,
      "metadata": {
        "id": "9PRdayYrrJLU",
        "outputId": "e95dbf3f-7470-4113-82d6-4c7dd2d5efbe",
        "colab": {
          "base_uri": "https://localhost:8080/"
        }
      },
      "outputs": [
        {
          "output_type": "stream",
          "name": "stdout",
          "text": [
            "+---------+----------------------------------+---------+\n",
            "|StockCode|Description                       |UnitPrice|\n",
            "+---------+----------------------------------+---------+\n",
            "|85123A   |WHITE HANGING HEART T-LIGHT HOLDER|2.55     |\n",
            "|71053    |WHITE METAL LANTERN               |3.39     |\n",
            "+---------+----------------------------------+---------+\n",
            "only showing top 2 rows\n",
            "\n"
          ]
        }
      ],
      "source": [
        "df.select(\"StockCode\",\"Description\",\"UnitPrice\").show(n=2, truncate=False)"
      ]
    },
    {
      "cell_type": "code",
      "execution_count": 10,
      "metadata": {
        "id": "gB4enTonrJLV",
        "outputId": "6445b7ea-1d94-4565-f7d5-55f5cc72c80b",
        "colab": {
          "base_uri": "https://localhost:8080/"
        }
      },
      "outputs": [
        {
          "output_type": "execute_result",
          "data": {
            "text/plain": [
              "['InvoiceNo',\n",
              " 'StockCode',\n",
              " 'Description',\n",
              " 'Quantity',\n",
              " 'InvoiceDate',\n",
              " 'UnitPrice',\n",
              " 'CustomerId',\n",
              " 'Country']"
            ]
          },
          "metadata": {},
          "execution_count": 10
        }
      ],
      "source": [
        "df.columns"
      ]
    },
    {
      "cell_type": "code",
      "execution_count": 11,
      "metadata": {
        "id": "9OuOr9j8rJLV",
        "outputId": "41c3143b-e3f7-4839-d50e-a14234fc299b",
        "colab": {
          "base_uri": "https://localhost:8080/"
        }
      },
      "outputs": [
        {
          "output_type": "stream",
          "name": "stdout",
          "text": [
            "+---------+---------+--------------------+--------+-------------------+\n",
            "|InvoiceNo|StockCode|         Description|Quantity|        InvoiceDate|\n",
            "+---------+---------+--------------------+--------+-------------------+\n",
            "|   536365|   85123A|WHITE HANGING HEA...|       6|2010-12-01 08:26:00|\n",
            "|   536365|    71053| WHITE METAL LANTERN|       6|2010-12-01 08:26:00|\n",
            "+---------+---------+--------------------+--------+-------------------+\n",
            "only showing top 2 rows\n",
            "\n"
          ]
        }
      ],
      "source": [
        "# select first 5 columns\n",
        "df.select(df.columns[0:5]).show(2)"
      ]
    },
    {
      "cell_type": "code",
      "execution_count": 12,
      "metadata": {
        "id": "OlY1qkVBrJLV",
        "outputId": "a46b5a92-2777-495a-83df-36b70b5cb490",
        "colab": {
          "base_uri": "https://localhost:8080/"
        }
      },
      "outputs": [
        {
          "output_type": "stream",
          "name": "stdout",
          "text": [
            "+---------+---------+--------------------+--------+-------------------+---------+----------+--------------+-------------+\n",
            "|InvoiceNo|StockCode|         Description|Quantity|        InvoiceDate|UnitPrice|CustomerId|       Country|HighValueItem|\n",
            "+---------+---------+--------------------+--------+-------------------+---------+----------+--------------+-------------+\n",
            "|   536365|   85123A|WHITE HANGING HEA...|       6|2010-12-01 08:26:00|     2.55|     17850|United Kingdom|        false|\n",
            "|   536365|    71053| WHITE METAL LANTERN|       6|2010-12-01 08:26:00|     3.39|     17850|United Kingdom|        false|\n",
            "+---------+---------+--------------------+--------+-------------------+---------+----------+--------------+-------------+\n",
            "only showing top 2 rows\n",
            "\n"
          ]
        }
      ],
      "source": [
        "# selects all the original columns and adds a new column that specifies high value item\n",
        "(df.selectExpr(\n",
        "   \"*\", # all original columns\n",
        "   \"(UnitPrice > 100) as HighValueItem\")\n",
        "   .show(2)\n",
        ")"
      ]
    },
    {
      "cell_type": "code",
      "execution_count": 13,
      "metadata": {
        "id": "0IiNqEgTrJLW",
        "outputId": "44abab12-9733-4cab-9e40-b3aba0d53478",
        "colab": {
          "base_uri": "https://localhost:8080/"
        }
      },
      "outputs": [
        {
          "output_type": "stream",
          "name": "stdout",
          "text": [
            "+-------------+--------------+\n",
            "|TotalQuantity|InventoryValue|\n",
            "+-------------+--------------+\n",
            "|      1474598|        824377|\n",
            "+-------------+--------------+\n",
            "\n"
          ]
        }
      ],
      "source": [
        "# selects all the original columns and adds a new column that specifies high value item\n",
        "(df.selectExpr(\n",
        "  \"sum(Quantity) as TotalQuantity\",\n",
        "  \"cast(sum(UnitPrice) as int) as InventoryValue\")\n",
        "  .show()\n",
        ")"
      ]
    },
    {
      "cell_type": "markdown",
      "metadata": {
        "id": "vvSNTynGrJLW"
      },
      "source": [
        "#### Adding, renaming and dropping columns"
      ]
    },
    {
      "cell_type": "code",
      "execution_count": 14,
      "metadata": {
        "id": "l1FQcKONrJLW",
        "outputId": "6c9d44ce-824d-497a-e086-f54d8756f1d0",
        "colab": {
          "base_uri": "https://localhost:8080/"
        }
      },
      "outputs": [
        {
          "output_type": "stream",
          "name": "stdout",
          "text": [
            "+---------+----------------------------------+---------+--------+------------+\n",
            "|InvoiceNo|Description                       |UnitPrice|Quantity|InvoiceValue|\n",
            "+---------+----------------------------------+---------+--------+------------+\n",
            "|536365   |WHITE HANGING HEART T-LIGHT HOLDER|2.55     |6       |15.299999   |\n",
            "|536365   |WHITE METAL LANTERN               |3.39     |6       |20.34       |\n",
            "+---------+----------------------------------+---------+--------+------------+\n",
            "only showing top 2 rows\n",
            "\n",
            "+---------+----------------------------------+---------+--------+---------+\n",
            "|InvoiceNo|Description                       |UnitPrice|Quantity|LineTotal|\n",
            "+---------+----------------------------------+---------+--------+---------+\n",
            "|536365   |WHITE HANGING HEART T-LIGHT HOLDER|2.55     |6       |15.299999|\n",
            "|536365   |WHITE METAL LANTERN               |3.39     |6       |20.34    |\n",
            "+---------+----------------------------------+---------+--------+---------+\n",
            "only showing top 2 rows\n",
            "\n",
            "+---------+----------------------------------+---------+--------+\n",
            "|InvoiceNo|Description                       |UnitPrice|Quantity|\n",
            "+---------+----------------------------------+---------+--------+\n",
            "|536365   |WHITE HANGING HEART T-LIGHT HOLDER|2.55     |6       |\n",
            "|536365   |WHITE METAL LANTERN               |3.39     |6       |\n",
            "+---------+----------------------------------+---------+--------+\n",
            "only showing top 2 rows\n",
            "\n"
          ]
        }
      ],
      "source": [
        "# add a new column called InvoiceValue\n",
        "from pyspark.sql.functions import expr\n",
        "df_1 = (df\n",
        "        .withColumn(\"InvoiceValue\", expr(\"UnitPrice * Quantity\"))\n",
        "        .select(\"InvoiceNo\",\"Description\",\"UnitPrice\",\"Quantity\",\"InvoiceValue\")\n",
        "       )\n",
        "df_1.show(2, False)\n",
        "\n",
        "# rename InvoiceValue to LineTotal\n",
        "df_2 = df_1.withColumnRenamed(\"InvoiceValue\",\"LineTotal\")\n",
        "df_2.show(2, False)\n",
        "\n",
        "# drop a column\n",
        "df_2.drop(\"LineTotal\").show(2, False)"
      ]
    },
    {
      "cell_type": "markdown",
      "metadata": {
        "id": "yUOj7aBmrJLW"
      },
      "source": [
        "### Hands-On 3 - Spark Transformations - filter, sort and cast"
      ]
    },
    {
      "cell_type": "code",
      "execution_count": 15,
      "metadata": {
        "id": "lvKUpyYgrJLW",
        "outputId": "1818719f-da02-413f-dce4-8096c9950f4e",
        "colab": {
          "base_uri": "https://localhost:8080/"
        }
      },
      "outputs": [
        {
          "output_type": "stream",
          "name": "stdout",
          "text": [
            "+---------+---------+-----------+--------+-----------+---------+----------+-------+\n",
            "|InvoiceNo|StockCode|Description|Quantity|InvoiceDate|UnitPrice|CustomerId|Country|\n",
            "+---------+---------+-----------+--------+-----------+---------+----------+-------+\n",
            "+---------+---------+-----------+--------+-----------+---------+----------+-------+\n",
            "\n",
            "+---------+---------+-----------+--------+-----------+---------+----------+-------+\n",
            "|InvoiceNo|StockCode|Description|Quantity|InvoiceDate|UnitPrice|CustomerId|Country|\n",
            "+---------+---------+-----------+--------+-----------+---------+----------+-------+\n",
            "+---------+---------+-----------+--------+-----------+---------+----------+-------+\n",
            "\n",
            "+---------+---------+-----------+--------+-----------+---------+----------+-------+\n",
            "|InvoiceNo|StockCode|Description|Quantity|InvoiceDate|UnitPrice|CustomerId|Country|\n",
            "+---------+---------+-----------+--------+-----------+---------+----------+-------+\n",
            "+---------+---------+-----------+--------+-----------+---------+----------+-------+\n",
            "\n"
          ]
        }
      ],
      "source": [
        "from pyspark.sql.functions import col\n",
        "\n",
        "# select invoice lines with quantity > 50 and unitprice > 20\n",
        "df.where(col(\"Quantity\") > 20).where(col(\"UnitPrice\") > 50).show(2)\n",
        "df.filter(df.Quantity > 20).filter(df.UnitPrice > 50).show(2)\n",
        "df.filter(\"Quantity > 20 and UnitPrice > 50\").show(2)"
      ]
    },
    {
      "cell_type": "code",
      "execution_count": 16,
      "metadata": {
        "id": "sjlaB_QDrJLW",
        "outputId": "9c66c821-5a92-4c3e-d525-36008cdb4b7c",
        "colab": {
          "base_uri": "https://localhost:8080/"
        }
      },
      "outputs": [
        {
          "output_type": "stream",
          "name": "stdout",
          "text": [
            "+---------+---------+--------------------+--------+-------------------+---------+----------+--------------+\n",
            "|InvoiceNo|StockCode|         Description|Quantity|        InvoiceDate|UnitPrice|CustomerId|       Country|\n",
            "+---------+---------+--------------------+--------+-------------------+---------+----------+--------------+\n",
            "|   536378|    21212|PACK OF 72 RETROS...|     120|2010-12-01 09:37:00|     0.42|     14688|United Kingdom|\n",
            "|     NULL|        D|            Discount|      -1|2010-12-01 09:41:00|     27.5|     14527|United Kingdom|\n",
            "+---------+---------+--------------------+--------+-------------------+---------+----------+--------------+\n",
            "only showing top 2 rows\n",
            "\n"
          ]
        }
      ],
      "source": [
        "# select invoice lines with quantity > 100 or unitprice > 20\n",
        "df.where((col(\"Quantity\") > 100) | (col(\"UnitPrice\") > 20)).show(2)"
      ]
    },
    {
      "cell_type": "code",
      "execution_count": 17,
      "metadata": {
        "id": "-hFuqWHVrJLX",
        "outputId": "e02da2a7-4325-4196-ca28-0254d041707a",
        "colab": {
          "base_uri": "https://localhost:8080/"
        }
      },
      "outputs": [
        {
          "output_type": "stream",
          "name": "stdout",
          "text": [
            "+---------+---------+-----------+--------+-------------------+---------+----------+--------------+\n",
            "|InvoiceNo|StockCode|Description|Quantity|        InvoiceDate|UnitPrice|CustomerId|       Country|\n",
            "+---------+---------+-----------+--------+-------------------+---------+----------+--------------+\n",
            "|   545546|   84249A|      check|    -150|2011-03-03 15:03:00|      0.0|      NULL|United Kingdom|\n",
            "|   536414|    22139|       NULL|      56|2010-12-01 11:52:00|      0.0|      NULL|United Kingdom|\n",
            "+---------+---------+-----------+--------+-------------------+---------+----------+--------------+\n",
            "only showing top 2 rows\n",
            "\n",
            "+---------+---------+--------------------+--------+-------------------+---------+----------+--------------+\n",
            "|InvoiceNo|StockCode|         Description|Quantity|        InvoiceDate|UnitPrice|CustomerId|       Country|\n",
            "+---------+---------+--------------------+--------+-------------------+---------+----------+--------------+\n",
            "|   541431|    23166|MEDIUM CERAMIC TO...|   74215|2011-01-18 10:01:00|     1.04|     12346|United Kingdom|\n",
            "|   542504|    37413|                NULL|    5568|2011-01-28 12:03:00|      0.0|      NULL|United Kingdom|\n",
            "|   544612|    22053|EMPIRE DESIGN ROS...|    3906|2011-02-22 10:43:00|     0.82|     18087|United Kingdom|\n",
            "|   550461|    21108|FAIRY CAKE FLANNE...|    3114|2011-04-18 13:20:00|      2.1|     15749|United Kingdom|\n",
            "|   540815|    21108|FAIRY CAKE FLANNE...|    3114|2011-01-11 12:55:00|      2.1|     15749|United Kingdom|\n",
            "|   546139|    84988|                   ?|    3000|2011-03-09 16:35:00|      0.0|      NULL|United Kingdom|\n",
            "|   536830|    84077|WORLD WAR 2 GLIDE...|    2880|2010-12-02 17:38:00|     0.18|     16754|United Kingdom|\n",
            "|   543057|    84077|WORLD WAR 2 GLIDE...|    2592|2011-02-03 10:50:00|     0.21|     16333|United Kingdom|\n",
            "|   542505|   79063D|                NULL|    2560|2011-01-28 12:04:00|      0.0|      NULL|United Kingdom|\n",
            "|   544152|    18007|ESSENTIAL BALM 3....|    2400|2011-02-16 12:10:00|     0.06|     14609|United Kingdom|\n",
            "+---------+---------+--------------------+--------+-------------------+---------+----------+--------------+\n",
            "only showing top 10 rows\n",
            "\n"
          ]
        }
      ],
      "source": [
        "from pyspark.sql.functions import desc, asc\n",
        "\n",
        "# sort in the default order: ascending\n",
        "df.orderBy(expr(\"UnitPrice\")).show(2)\n",
        "\n",
        "df.orderBy(col(\"Quantity\").desc(), col(\"UnitPrice\").asc()).show(10)"
      ]
    },
    {
      "cell_type": "markdown",
      "metadata": {
        "id": "fkxQOf0brJLX"
      },
      "source": [
        "### Hands-On 4 - Spark Transformations - aggregations\n",
        "full list of built int functions - https://spark.apache.org/docs/latest/api/python/reference/pyspark.sql.html#functions"
      ]
    },
    {
      "cell_type": "code",
      "execution_count": 18,
      "metadata": {
        "id": "X0gIYcIprJLX",
        "outputId": "1a3ca7a7-2c1b-4a4e-cf91-7ec761e4c660",
        "colab": {
          "base_uri": "https://localhost:8080/"
        }
      },
      "outputs": [
        {
          "output_type": "stream",
          "name": "stdout",
          "text": [
            "+--------------------------+\n",
            "|count(DISTINCT CustomerID)|\n",
            "+--------------------------+\n",
            "|                      2410|\n",
            "+--------------------------+\n",
            "\n",
            "CPU times: user 11 ms, sys: 2.69 ms, total: 13.7 ms\n",
            "Wall time: 1.82 s\n"
          ]
        }
      ],
      "source": [
        "%%time\n",
        "# Count distinct customers\n",
        "from pyspark.sql.functions import countDistinct\n",
        "df.select(countDistinct(\"CustomerID\")).show()"
      ]
    },
    {
      "cell_type": "code",
      "execution_count": 19,
      "metadata": {
        "id": "rIcYKGymrJLX",
        "outputId": "4eea9d58-fdb5-40f2-d2ac-ae101ed7503b",
        "colab": {
          "base_uri": "https://localhost:8080/"
        }
      },
      "outputs": [
        {
          "output_type": "stream",
          "name": "stdout",
          "text": [
            "+---------------------------------+\n",
            "|approx_count_distinct(CustomerID)|\n",
            "+---------------------------------+\n",
            "|                             2143|\n",
            "+---------------------------------+\n",
            "\n",
            "CPU times: user 11.6 ms, sys: 3.31 ms, total: 14.9 ms\n",
            "Wall time: 2.18 s\n"
          ]
        }
      ],
      "source": [
        "%%time\n",
        "# approx. distinct stock items\n",
        "from pyspark.sql.functions import approx_count_distinct\n",
        "df.select(approx_count_distinct(\"CustomerID\", 0.1)).show()"
      ]
    },
    {
      "cell_type": "code",
      "execution_count": 20,
      "metadata": {
        "id": "0FGqJXjgrJLX",
        "outputId": "179b0aa3-2c0d-4f6a-e7d0-582a29fc208e",
        "colab": {
          "base_uri": "https://localhost:8080/"
        }
      },
      "outputs": [
        {
          "output_type": "stream",
          "name": "stdout",
          "text": [
            "+----------------+-------------+-------------+\n",
            "|   avg_purchases|max_purchases|min_purchases|\n",
            "+----------------+-------------+-------------+\n",
            "|9.05144463609411|        74215|       -74215|\n",
            "+----------------+-------------+-------------+\n",
            "\n"
          ]
        }
      ],
      "source": [
        "# average, maximum and minimum purchase quantity\n",
        "from pyspark.sql.functions import avg, max, min\n",
        "( df.select(\n",
        "    avg(\"Quantity\").alias(\"avg_purchases\"),\n",
        "    max(\"Quantity\").alias(\"max_purchases\"),\n",
        "    min(\"Quantity\").alias(\"min_purchases\"))\n",
        "   .show()\n",
        ")"
      ]
    },
    {
      "cell_type": "markdown",
      "metadata": {
        "id": "u1Wt3dqNrJLX"
      },
      "source": [
        "### Hands-On 5 - Spark Transformations - grouping and windows"
      ]
    },
    {
      "cell_type": "code",
      "execution_count": 21,
      "metadata": {
        "id": "ivM-iICerJLY",
        "outputId": "85502415-9406-48e0-e096-b9a133ee144c",
        "colab": {
          "base_uri": "https://localhost:8080/"
        }
      },
      "outputs": [
        {
          "output_type": "stream",
          "name": "stdout",
          "text": [
            "+---------+----------+-----+\n",
            "|InvoiceNo|CustomerId|count|\n",
            "+---------+----------+-----+\n",
            "|   536573|     17025|    4|\n",
            "|   537228|     17677|    1|\n",
            "|   537419|     13495|   14|\n",
            "|   538093|     12682|   33|\n",
            "|   538648|     17937|    5|\n",
            "+---------+----------+-----+\n",
            "only showing top 5 rows\n",
            "\n",
            "+---------+------------------+--------------------+\n",
            "|InvoiceNo|     avg(Quantity)|stddev_pop(Quantity)|\n",
            "+---------+------------------+--------------------+\n",
            "|   536532| 25.36986301369863|  16.850272831671976|\n",
            "|   537632|               1.0|                 0.0|\n",
            "|   538708| 10.61111111111111|   7.150282736359209|\n",
            "|   538877|14.258278145695364|   27.56989037543246|\n",
            "|   538993| 9.333333333333334|   2.748737083745107|\n",
            "+---------+------------------+--------------------+\n",
            "only showing top 5 rows\n",
            "\n"
          ]
        }
      ],
      "source": [
        "# count of items on the invoice\n",
        "df.groupBy(\"InvoiceNo\", \"CustomerId\").count().show(5)\n",
        "\n",
        "# grouping with expressions\n",
        "df.groupBy(\"InvoiceNo\").agg(expr(\"avg(Quantity)\"),expr(\"stddev_pop(Quantity)\"))\\\n",
        "  .show(5)"
      ]
    },
    {
      "cell_type": "markdown",
      "metadata": {
        "id": "SRr2f8chrJLY"
      },
      "source": [
        "### Read the csv file into DataFrame\n",
        "\n",
        "`%%time` is an iPython magic https://ipython.readthedocs.io/en/stable/interactive/magics.html\n"
      ]
    },
    {
      "cell_type": "markdown",
      "metadata": {
        "id": "74yUqIPHrJLY"
      },
      "source": [
        "It's possible to read files without specifying the schema. Some file formats (Parquet is one of them) include the schema, which means that Spark can start reading the file. For format without schema (csv, json...) Spark can infer the schema. Let's see what's the difference in terms of time and of results:"
      ]
    },
    {
      "cell_type": "code",
      "execution_count": 22,
      "metadata": {
        "id": "nqSkQm4RrJLY"
      },
      "outputs": [],
      "source": [
        "online_retail_schema=\"InvoiceNo int, StockCode string, Description string, Quantity int,\\\n",
        "InvoiceDate timestamp,UnitPrice float,CustomerId int, Country string\""
      ]
    },
    {
      "cell_type": "code",
      "execution_count": 23,
      "metadata": {
        "id": "sZLNaGJ-rJLl",
        "outputId": "290bea18-3aa1-4490-aefa-95728d75b708",
        "colab": {
          "base_uri": "https://localhost:8080/"
        }
      },
      "outputs": [
        {
          "output_type": "stream",
          "name": "stdout",
          "text": [
            "CPU times: user 4.86 ms, sys: 160 µs, total: 5.02 ms\n",
            "Wall time: 45.8 ms\n"
          ]
        }
      ],
      "source": [
        "%%time\n",
        "df = spark.read \\\n",
        "        .option(\"header\", \"true\") \\\n",
        "        .option(\"timestampFormat\", \"M/d/yyyy H:m\")\\\n",
        "        .csv(\"/content/OnlineRetail.csv\",\n",
        "             schema=online_retail_schema)"
      ]
    },
    {
      "cell_type": "code",
      "execution_count": 24,
      "metadata": {
        "scrolled": true,
        "id": "6KiCslK1rJLl",
        "outputId": "31663fc9-f8c4-4666-d5f9-540675994c08",
        "colab": {
          "base_uri": "https://localhost:8080/"
        }
      },
      "outputs": [
        {
          "output_type": "stream",
          "name": "stdout",
          "text": [
            "CPU times: user 24.9 ms, sys: 4.85 ms, total: 29.7 ms\n",
            "Wall time: 4.26 s\n"
          ]
        }
      ],
      "source": [
        "%%time\n",
        "df_infer = spark.read \\\n",
        "        .option(\"header\", \"true\") \\\n",
        "        .option(\"inferSchema\", \"true\") \\\n",
        "        .csv(\"/content/OnlineRetail.csv\")"
      ]
    },
    {
      "cell_type": "markdown",
      "metadata": {
        "id": "BORYSMbTrJLl"
      },
      "source": [
        "## Exercises"
      ]
    },
    {
      "cell_type": "markdown",
      "metadata": {
        "id": "Uh8CsapArJLm"
      },
      "source": [
        "Reminder: documentation at\n",
        "https://spark.apache.org/docs/latest/api/python/index.html"
      ]
    },
    {
      "cell_type": "markdown",
      "metadata": {
        "id": "UHuZbdsvrJLm"
      },
      "source": [
        "If you didn't run the previous cells, run the following one:"
      ]
    },
    {
      "cell_type": "code",
      "execution_count": 25,
      "metadata": {
        "id": "5OeDk8oMrJLm"
      },
      "outputs": [],
      "source": [
        "from pyspark.sql import SparkSession\n",
        "\n",
        "spark = SparkSession.builder \\\n",
        "        .master(\"local[*]\") \\\n",
        "        .appName(\"DataFrame HandsOn 1\") \\\n",
        "        .config(\"spark.ui.showConsoleProgress\",\"false\") \\\n",
        "        .getOrCreate()\n",
        "\n",
        "online_retail_schema=\"InvoiceNo int, StockCode string, Description string, Quantity int,\\\n",
        "InvoiceDate timestamp,UnitPrice float,CustomerId int, Country string\"\n",
        "\n",
        "df = spark.read \\\n",
        "        .option(\"header\", \"true\") \\\n",
        "        .option(\"timestampFormat\", \"M/d/yyyy H:m\")\\\n",
        "        .csv(\"/content/OnlineRetail.csv\",\n",
        "             schema=online_retail_schema)"
      ]
    },
    {
      "cell_type": "markdown",
      "metadata": {
        "id": "c33yzogYrJLm"
      },
      "source": [
        "Task: Show 5 lines of the \"description\" column"
      ]
    },
    {
      "cell_type": "code",
      "source": [
        "df.select(\"Description\").show(5)"
      ],
      "metadata": {
        "colab": {
          "base_uri": "https://localhost:8080/"
        },
        "id": "LqTPehrIuu77",
        "outputId": "946bcbbe-b189-4bc9-e1d1-2c5c7e4714d4"
      },
      "execution_count": 26,
      "outputs": [
        {
          "output_type": "stream",
          "name": "stdout",
          "text": [
            "+--------------------+\n",
            "|         Description|\n",
            "+--------------------+\n",
            "|WHITE HANGING HEA...|\n",
            "| WHITE METAL LANTERN|\n",
            "|CREAM CUPID HEART...|\n",
            "|KNITTED UNION FLA...|\n",
            "|RED WOOLLY HOTTIE...|\n",
            "+--------------------+\n",
            "only showing top 5 rows\n",
            "\n"
          ]
        }
      ]
    },
    {
      "cell_type": "markdown",
      "metadata": {
        "id": "XsnrYSYPrJLm"
      },
      "source": [
        "Task: Count the number of distinct invoices in the dataframe"
      ]
    },
    {
      "cell_type": "code",
      "source": [
        "from pyspark.sql.functions import countDistinct\n",
        "\n",
        "df.select(countDistinct(\"InvoiceNo\")).show()"
      ],
      "metadata": {
        "colab": {
          "base_uri": "https://localhost:8080/"
        },
        "id": "MAe3CLfgwQ1B",
        "outputId": "79b4bcfc-fb52-4156-8975-0c8fa1a8079d"
      },
      "execution_count": 27,
      "outputs": [
        {
          "output_type": "stream",
          "name": "stdout",
          "text": [
            "+-------------------------+\n",
            "|count(DISTINCT InvoiceNo)|\n",
            "+-------------------------+\n",
            "|                    22061|\n",
            "+-------------------------+\n",
            "\n"
          ]
        }
      ]
    },
    {
      "cell_type": "markdown",
      "metadata": {
        "id": "Vvm0QaeErJLm"
      },
      "source": [
        "Task: Find out in which month most invoices have been issued"
      ]
    },
    {
      "cell_type": "code",
      "source": [
        "df.groupBy(month(\"InvoiceDate\").alias(\"Month\")).count().orderBy(\"count\", ascending=False).show(1)"
      ],
      "metadata": {
        "colab": {
          "base_uri": "https://localhost:8080/"
        },
        "id": "mE-NZTu-xFGs",
        "outputId": "2a4ce892-e527-4ac7-e364-623d15e2e788"
      },
      "execution_count": 38,
      "outputs": [
        {
          "output_type": "stream",
          "name": "stdout",
          "text": [
            "+-----+-----+\n",
            "|Month|count|\n",
            "+-----+-----+\n",
            "|   11|84711|\n",
            "+-----+-----+\n",
            "only showing top 1 row\n",
            "\n"
          ]
        }
      ]
    },
    {
      "cell_type": "markdown",
      "metadata": {
        "id": "7LEyMTWlrJLm"
      },
      "source": [
        "Task: Filter the lines where the Quantity is more than 30"
      ]
    },
    {
      "cell_type": "code",
      "source": [
        "# df.where(col(\"Quantity\") > 30).show(2)\n",
        "\n",
        "from pyspark.sql.functions import col\n",
        "df.filter(col(\"Quantity\") > 30).show(2)\n"
      ],
      "metadata": {
        "colab": {
          "base_uri": "https://localhost:8080/"
        },
        "id": "RAY243UJoidL",
        "outputId": "78f156d0-1a14-4471-e7c2-31ea2a233e26"
      },
      "execution_count": 31,
      "outputs": [
        {
          "output_type": "stream",
          "name": "stdout",
          "text": [
            "+---------+---------+--------------------+--------+-------------------+---------+----------+--------------+\n",
            "|InvoiceNo|StockCode|         Description|Quantity|        InvoiceDate|UnitPrice|CustomerId|       Country|\n",
            "+---------+---------+--------------------+--------+-------------------+---------+----------+--------------+\n",
            "|   536367|    84879|ASSORTED COLOUR B...|      32|2010-12-01 08:34:00|     1.69|     13047|United Kingdom|\n",
            "|   536370|    10002|INFLATABLE POLITI...|      48|2010-12-01 08:45:00|     0.85|     12583|        France|\n",
            "+---------+---------+--------------------+--------+-------------------+---------+----------+--------------+\n",
            "only showing top 2 rows\n",
            "\n"
          ]
        }
      ]
    },
    {
      "cell_type": "markdown",
      "metadata": {
        "id": "aVLCaW7PrJLm"
      },
      "source": [
        "Task: Show the four most sold items (by quantity)"
      ]
    },
    {
      "cell_type": "code",
      "source": [
        "df.groupBy(\"StockCode\").count().orderBy(\"count\", ascending=False).show(4)\n"
      ],
      "metadata": {
        "colab": {
          "base_uri": "https://localhost:8080/"
        },
        "id": "AZ9AONOKpGXB",
        "outputId": "87816ac3-24a0-44a8-daab-0c007f074c27"
      },
      "execution_count": 36,
      "outputs": [
        {
          "output_type": "stream",
          "name": "stdout",
          "text": [
            "+---------+-----+\n",
            "|StockCode|count|\n",
            "+---------+-----+\n",
            "|   85123A| 2313|\n",
            "|    22423| 2203|\n",
            "|   85099B| 2159|\n",
            "|    47566| 1727|\n",
            "+---------+-----+\n",
            "only showing top 4 rows\n",
            "\n"
          ]
        }
      ]
    },
    {
      "cell_type": "markdown",
      "metadata": {
        "id": "EXgV1IYGrJLm"
      },
      "source": [
        "Bonus question: why do these two operations return different results? Hint: look at the documentation"
      ]
    },
    {
      "cell_type": "code",
      "execution_count": 39,
      "metadata": {
        "id": "UV-VeRZQrJLm",
        "colab": {
          "base_uri": "https://localhost:8080/"
        },
        "outputId": "3a545828-5a27-4332-f5d6-549eea832782"
      },
      "outputs": [
        {
          "output_type": "stream",
          "name": "stdout",
          "text": [
            "22062\n",
            "+-------------------------+\n",
            "|count(DISTINCT InvoiceNo)|\n",
            "+-------------------------+\n",
            "|                    22061|\n",
            "+-------------------------+\n",
            "\n"
          ]
        }
      ],
      "source": [
        "print(df.select(\"InvoiceNo\").distinct().count())\n",
        "from pyspark.sql.functions import countDistinct\n",
        "df.select(countDistinct(\"InvoiceNo\")).show()"
      ]
    },
    {
      "cell_type": "markdown",
      "source": [
        "If InvoiceNo has NULL values, countDistinct() ignores them, while distinct().count() includes them."
      ],
      "metadata": {
        "id": "EnZ8mc5hqbro"
      }
    }
  ],
  "metadata": {
    "celltoolbar": "Slideshow",
    "kernelspec": {
      "display_name": "Python 3 (ipykernel)",
      "language": "python",
      "name": "python3"
    },
    "language_info": {
      "codemirror_mode": {
        "name": "ipython",
        "version": 3
      },
      "file_extension": ".py",
      "mimetype": "text/x-python",
      "name": "python",
      "nbconvert_exporter": "python",
      "pygments_lexer": "ipython3",
      "version": "3.9.13"
    },
    "sparkconnect": {
      "bundled_options": [],
      "list_of_options": []
    },
    "colab": {
      "provenance": []
    }
  },
  "nbformat": 4,
  "nbformat_minor": 0
}