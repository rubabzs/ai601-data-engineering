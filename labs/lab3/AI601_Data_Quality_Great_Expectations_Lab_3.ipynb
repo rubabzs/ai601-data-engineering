{
 "cells": [
  {
   "cell_type": "markdown",
   "metadata": {},
   "source": [
    "# Group 24\n",
    "\n",
    "### Yahya Habib (24280001)\n",
    "### Ameer Hamza (24280033)\n"
   ]
  },
  {
   "cell_type": "code",
   "execution_count": 3,
   "metadata": {
    "id": "J85aPPF9n08S"
   },
   "outputs": [],
   "source": [
    "# !pip3 install great_expectations"
   ]
  },
  {
   "cell_type": "code",
   "execution_count": 23,
   "metadata": {
    "id": "H2OXunQjoKcU"
   },
   "outputs": [],
   "source": [
    "import great_expectations as gx\n",
    "import pandas as pd"
   ]
  },
  {
   "cell_type": "code",
   "execution_count": 24,
   "metadata": {
    "id": "A4_oPbKJoRs4"
   },
   "outputs": [],
   "source": [
    "df = pd.read_csv(\n",
    "    \"https://raw.githubusercontent.com/great-expectations/gx_tutorials/main/data/yellow_tripdata_sample_2019-01.csv\"\n",
    ")"
   ]
  },
  {
   "cell_type": "markdown",
   "metadata": {
    "id": "hpK4MNNno5Kr"
   },
   "source": [
    "# Using Great Expectations"
   ]
  },
  {
   "cell_type": "code",
   "execution_count": 25,
   "metadata": {
    "id": "WW3LH-B8o4WU"
   },
   "outputs": [
    {
     "data": {
      "application/vnd.jupyter.widget-view+json": {
       "model_id": "1286e9d855104c0ab4b2be2b84486ef2",
       "version_major": 2,
       "version_minor": 0
      },
      "text/plain": [
       "Calculating Metrics:   0%|          | 0/10 [00:00<?, ?it/s]"
      ]
     },
     "metadata": {},
     "output_type": "display_data"
    }
   ],
   "source": [
    "## Example Setup\n",
    "\n",
    "context = gx.get_context()\n",
    "data_source = context.data_sources.add_pandas(\"pandas\")\n",
    "data_asset = data_source.add_dataframe_asset(name=\"pd dataframe asset\")\n",
    "\n",
    "batch_definition = data_asset.add_batch_definition_whole_dataframe(\"batch definition\")\n",
    "batch = batch_definition.get_batch(batch_parameters={\"dataframe\": df})\n",
    "\n",
    "expectation = gx.expectations.ExpectColumnValuesToBeBetween(\n",
    "    column=\"passenger_count\", min_value=1, max_value=6\n",
    ")\n",
    "\n",
    "validation_result = batch.validate(expectation)"
   ]
  },
  {
   "cell_type": "markdown",
   "metadata": {
    "id": "TKEe0iUgo_mI"
   },
   "source": [
    "#**To-do:**\n",
    "\n",
    "1.   Fetch any dataset from online source. I'll recommend using reddit API used in the assignment #1.\n",
    "2.   Run 5 expectations of your choice to validate the dataset. They should cover row, column, multi-column, table, distribution operation.\n",
    "3.   Submit the notebook file on LMS before Monday 11:55 PM.\n",
    "4.   Mention your group number in the name of the file.\n",
    "\n"
   ]
  },
  {
   "cell_type": "code",
   "execution_count": 46,
   "metadata": {},
   "outputs": [],
   "source": [
    "reddit_df = pd.read_csv('reddit.csv')"
   ]
  },
  {
   "cell_type": "code",
   "execution_count": 27,
   "metadata": {},
   "outputs": [],
   "source": [
    "data_source = context.data_sources.add_pandas(\"reddit_pandas\")\n",
    "data_asset = data_source.add_dataframe_asset(name=\"reddit dataframe asset\")\n",
    "\n",
    "batch_definition = data_asset.add_batch_definition_whole_dataframe(\"batch definition\")\n",
    "batch = batch_definition.get_batch(batch_parameters={\"dataframe\": reddit_df})"
   ]
  },
  {
   "cell_type": "code",
   "execution_count": 50,
   "metadata": {},
   "outputs": [
    {
     "data": {
      "application/vnd.jupyter.widget-view+json": {
       "model_id": "1a32e30bcb2f412cb244ec85fbec1086",
       "version_major": 2,
       "version_minor": 0
      },
      "text/plain": [
       "Calculating Metrics:   0%|          | 0/4 [00:00<?, ?it/s]"
      ]
     },
     "metadata": {},
     "output_type": "display_data"
    },
    {
     "data": {
      "application/vnd.jupyter.widget-view+json": {
       "model_id": "f9bf9dfff2a54495a1d2b594e194af63",
       "version_major": 2,
       "version_minor": 0
      },
      "text/plain": [
       "Calculating Metrics:   0%|          | 0/1 [00:00<?, ?it/s]"
      ]
     },
     "metadata": {},
     "output_type": "display_data"
    },
    {
     "data": {
      "application/vnd.jupyter.widget-view+json": {
       "model_id": "befe350ec1944e8aa599edd2b9d1336f",
       "version_major": 2,
       "version_minor": 0
      },
      "text/plain": [
       "Calculating Metrics:   0%|          | 0/2 [00:00<?, ?it/s]"
      ]
     },
     "metadata": {},
     "output_type": "display_data"
    },
    {
     "data": {
      "application/vnd.jupyter.widget-view+json": {
       "model_id": "d3d0649880c740849531fec2baed38f4",
       "version_major": 2,
       "version_minor": 0
      },
      "text/plain": [
       "Calculating Metrics:   0%|          | 0/10 [00:00<?, ?it/s]"
      ]
     },
     "metadata": {},
     "output_type": "display_data"
    },
    {
     "data": {
      "application/vnd.jupyter.widget-view+json": {
       "model_id": "94fd38f16ab44790af24b8f202ad268e",
       "version_major": 2,
       "version_minor": 0
      },
      "text/plain": [
       "Calculating Metrics:   0%|          | 0/3 [00:00<?, ?it/s]"
      ]
     },
     "metadata": {},
     "output_type": "display_data"
    },
    {
     "name": "stdout",
     "output_type": "stream",
     "text": [
      "--- upvote_expectation ---\n",
      " {\n",
      "  \"success\": true,\n",
      "  \"expectation_config\": {\n",
      "    \"type\": \"expect_column_max_to_be_between\",\n",
      "    \"kwargs\": {\n",
      "      \"batch_id\": \"reddit_pandas-reddit dataframe asset\",\n",
      "      \"column\": \"upvote\",\n",
      "      \"min_value\": 3021.0,\n",
      "      \"max_value\": 35937.0\n",
      "    },\n",
      "    \"meta\": {}\n",
      "  },\n",
      "  \"result\": {\n",
      "    \"observed_value\": 35937\n",
      "  },\n",
      "  \"meta\": {},\n",
      "  \"exception_info\": {\n",
      "    \"raised_exception\": false,\n",
      "    \"exception_traceback\": null,\n",
      "    \"exception_message\": null\n",
      "  }\n",
      "}\n",
      "--- upvote_type_expectation ---\n",
      " {\n",
      "  \"success\": true,\n",
      "  \"expectation_config\": {\n",
      "    \"type\": \"expect_column_values_to_be_of_type\",\n",
      "    \"kwargs\": {\n",
      "      \"batch_id\": \"reddit_pandas-reddit dataframe asset\",\n",
      "      \"column\": \"upvote\",\n",
      "      \"type_\": \"int64\"\n",
      "    },\n",
      "    \"meta\": {}\n",
      "  },\n",
      "  \"result\": {\n",
      "    \"observed_value\": \"int64\"\n",
      "  },\n",
      "  \"meta\": {},\n",
      "  \"exception_info\": {\n",
      "    \"raised_exception\": false,\n",
      "    \"exception_traceback\": null,\n",
      "    \"exception_message\": null\n",
      "  }\n",
      "}\n",
      "--- subreddit_name_expectation ---\n",
      " {\n",
      "  \"success\": true,\n",
      "  \"expectation_config\": {\n",
      "    \"type\": \"expect_column_to_exist\",\n",
      "    \"kwargs\": {\n",
      "      \"batch_id\": \"reddit_pandas-reddit dataframe asset\",\n",
      "      \"column\": \"subreddit_name\",\n",
      "      \"column_index\": 0\n",
      "    },\n",
      "    \"meta\": {}\n",
      "  },\n",
      "  \"result\": {},\n",
      "  \"meta\": {},\n",
      "  \"exception_info\": {\n",
      "    \"raised_exception\": false,\n",
      "    \"exception_traceback\": null,\n",
      "    \"exception_message\": null\n",
      "  }\n",
      "}\n",
      "--- subreddit_unique_expectation ---\n",
      " {\n",
      "  \"success\": false,\n",
      "  \"expectation_config\": {\n",
      "    \"type\": \"expect_column_values_to_be_unique\",\n",
      "    \"kwargs\": {\n",
      "      \"batch_id\": \"reddit_pandas-reddit dataframe asset\",\n",
      "      \"column\": \"subreddit_name\"\n",
      "    },\n",
      "    \"meta\": {}\n",
      "  },\n",
      "  \"result\": {\n",
      "    \"element_count\": 200,\n",
      "    \"unexpected_count\": 112,\n",
      "    \"unexpected_percent\": 56.00000000000001,\n",
      "    \"partial_unexpected_list\": [\n",
      "      \"memes\",\n",
      "      \"Wellthatsucks\",\n",
      "      \"Wellthatsucks\",\n",
      "      \"comedyheaven\",\n",
      "      \"nextfuckinglevel\",\n",
      "      \"tumblr\",\n",
      "      \"BestofRedditorUpdates\",\n",
      "      \"Cricket\",\n",
      "      \"WhitePeopleTwitter\",\n",
      "      \"BestofRedditorUpdates\",\n",
      "      \"BestofRedditorUpdates\",\n",
      "      \"Cricket\",\n",
      "      \"pics\",\n",
      "      \"BestofRedditorUpdates\",\n",
      "      \"facepalm\",\n",
      "      \"Cricket\",\n",
      "      \"Cricket\",\n",
      "      \"IndiaCricket\",\n",
      "      \"comedyheaven\",\n",
      "      \"formula1\"\n",
      "    ],\n",
      "    \"missing_count\": 0,\n",
      "    \"missing_percent\": 0.0,\n",
      "    \"unexpected_percent_total\": 56.00000000000001,\n",
      "    \"unexpected_percent_nonmissing\": 56.00000000000001,\n",
      "    \"partial_unexpected_counts\": [\n",
      "      {\n",
      "        \"value\": \"BestofRedditorUpdates\",\n",
      "        \"count\": 4\n",
      "      },\n",
      "      {\n",
      "        \"value\": \"Cricket\",\n",
      "        \"count\": 4\n",
      "      },\n",
      "      {\n",
      "        \"value\": \"Wellthatsucks\",\n",
      "        \"count\": 2\n",
      "      },\n",
      "      {\n",
      "        \"value\": \"comedyheaven\",\n",
      "        \"count\": 2\n",
      "      },\n",
      "      {\n",
      "        \"value\": \"IndiaCricket\",\n",
      "        \"count\": 1\n",
      "      },\n",
      "      {\n",
      "        \"value\": \"WhitePeopleTwitter\",\n",
      "        \"count\": 1\n",
      "      },\n",
      "      {\n",
      "        \"value\": \"facepalm\",\n",
      "        \"count\": 1\n",
      "      },\n",
      "      {\n",
      "        \"value\": \"formula1\",\n",
      "        \"count\": 1\n",
      "      },\n",
      "      {\n",
      "        \"value\": \"memes\",\n",
      "        \"count\": 1\n",
      "      },\n",
      "      {\n",
      "        \"value\": \"nextfuckinglevel\",\n",
      "        \"count\": 1\n",
      "      },\n",
      "      {\n",
      "        \"value\": \"pics\",\n",
      "        \"count\": 1\n",
      "      },\n",
      "      {\n",
      "        \"value\": \"tumblr\",\n",
      "        \"count\": 1\n",
      "      }\n",
      "    ],\n",
      "    \"partial_unexpected_index_list\": [\n",
      "      0,\n",
      "      2,\n",
      "      7,\n",
      "      9,\n",
      "      12,\n",
      "      16,\n",
      "      17,\n",
      "      18,\n",
      "      19,\n",
      "      20,\n",
      "      21,\n",
      "      22,\n",
      "      24,\n",
      "      27,\n",
      "      31,\n",
      "      32,\n",
      "      35,\n",
      "      38,\n",
      "      41,\n",
      "      42\n",
      "    ]\n",
      "  },\n",
      "  \"meta\": {},\n",
      "  \"exception_info\": {\n",
      "    \"raised_exception\": false,\n",
      "    \"exception_traceback\": null,\n",
      "    \"exception_message\": null\n",
      "  }\n",
      "}\n",
      "--- column_count_expectation ---\n",
      " {\n",
      "  \"success\": false,\n",
      "  \"expectation_config\": {\n",
      "    \"type\": \"expect_table_column_count_to_equal\",\n",
      "    \"kwargs\": {\n",
      "      \"batch_id\": \"reddit_pandas-reddit dataframe asset\",\n",
      "      \"value\": 5\n",
      "    },\n",
      "    \"meta\": {}\n",
      "  },\n",
      "  \"result\": {\n",
      "    \"observed_value\": 6\n",
      "  },\n",
      "  \"meta\": {},\n",
      "  \"exception_info\": {\n",
      "    \"raised_exception\": false,\n",
      "    \"exception_traceback\": null,\n",
      "    \"exception_message\": null\n",
      "  }\n",
      "}\n"
     ]
    }
   ],
   "source": [
    "# testing min and max value of upvote\n",
    "upvote_expectation = gx.expectations.ExpectColumnMaxToBeBetween(\n",
    "    column=\"upvote\", min_value=3021, max_value=35937\n",
    ")\n",
    "validation_upvote = batch.validate(upvote_expectation)\n",
    "\n",
    "# checking upvote type is number\n",
    "upvote_type_expectation = gx.expectations.ExpectColumnValuesToBeOfType(\n",
    "    column=\"upvote\",\n",
    "    type_=\"int64\"\n",
    ")\n",
    "validation_upvote_type = batch.validate(upvote_type_expectation)\n",
    "\n",
    "# checking subreddit_name column exit\n",
    "subreddit_column_expectation = gx.expectations.ExpectColumnToExist(\n",
    "    column=\"subreddit_name\",\n",
    "    column_index=0\n",
    ")\n",
    "validation_subreddit_column = batch.validate(subreddit_column_expectation)\n",
    "\n",
    "# checking unique subreddit_name \n",
    "subreddit_unique_expectation = gx.expectations.ExpectColumnValuesToBeUnique(\n",
    "    column=\"subreddit_name\"\n",
    ")\n",
    "validation_subreddit_unique = batch.validate(subreddit_unique_expectation)\n",
    "\n",
    "# checking column count = 5, will return false because i have 6 columns\n",
    "column_count_expectation = gx.expectations.ExpectTableColumnCountToEqual(\n",
    "    value=5\n",
    ")\n",
    "validation_column_count = batch.validate(column_count_expectation)\n",
    "\n",
    "\n",
    "print(\"--- upvote_expectation ---\\n\", validation_upvote)\n",
    "print(\"--- upvote_type_expectation ---\\n\", validation_upvote_type)\n",
    "print(\"--- subreddit_name_expectation ---\\n\", validation_subreddit_column)\n",
    "print(\"--- subreddit_unique_expectation ---\\n\", validation_subreddit_unique)\n",
    "print(\"--- column_count_expectation ---\\n\", validation_column_count)"
   ]
  },
  {
   "cell_type": "code",
   "execution_count": null,
   "metadata": {},
   "outputs": [],
   "source": []
  }
 ],
 "metadata": {
  "colab": {
   "provenance": []
  },
  "kernelspec": {
   "display_name": "Python 3 (ipykernel)",
   "language": "python",
   "name": "python3"
  },
  "language_info": {
   "codemirror_mode": {
    "name": "ipython",
    "version": 3
   },
   "file_extension": ".py",
   "mimetype": "text/x-python",
   "name": "python",
   "nbconvert_exporter": "python",
   "pygments_lexer": "ipython3",
   "version": "3.11.4"
  }
 },
 "nbformat": 4,
 "nbformat_minor": 4
}
